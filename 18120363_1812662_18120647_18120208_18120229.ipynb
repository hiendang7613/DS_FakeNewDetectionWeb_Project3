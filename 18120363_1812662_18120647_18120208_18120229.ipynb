{
 "cells": [
  {
   "cell_type": "markdown",
   "metadata": {
    "id": "k-PADmKlLXRH"
   },
   "source": [
    "**Link trang web app :** https://share.streamlit.io/hiendang7613/ds_fakenewdetectionweb_project3/main/streamlit.py\n",
    "<br>**Link code đầy đủ model và file VnCoreNLP-1.1.1.jar :** https://github.com/hiendang7613/DS_FakeNewDetectionWeb_Project3"
   ]
  },
  {
   "cell_type": "markdown",
   "metadata": {
    "id": "Dvl3mIP0F-Qr"
   },
   "source": [
    "# Đồ án 3 - Fake news detection\n",
    "\n",
    "Thành viên : \n",
    "\n",
    "Đặng Văn Hiển - 18120363\n",
    "\n",
    "Trà Anh Toàn - 1812662\n",
    "\n",
    "Lê Thanh Viễn - 18120647\n",
    "\n",
    "Nguyễn Trần Nhật Minh - 18120208\n",
    "\n",
    "Nguyễn Vinh Quang - 18120229\n",
    "\n"
   ]
  },
  {
   "cell_type": "markdown",
   "metadata": {
    "id": "8ZPNS31ZGT2E"
   },
   "source": [
    "# Import"
   ]
  },
  {
   "cell_type": "code",
   "execution_count": 1,
   "metadata": {
    "id": "VOgyyC3TGRcN"
   },
   "outputs": [],
   "source": [
    "import pandas as pd  # Hỗ trợ Dataframe \n",
    "from vncorenlp import VnCoreNLP # Hỗ trợ tokenize tiêng việt n-gram\n",
    "import re # Loại bỏ kí tự đặc biệt\n",
    "import numpy as np\n",
    "\n",
    "from sklearn.pipeline import Pipeline, make_pipeline\n",
    "from sklearn.model_selection import train_test_split\n",
    "from sklearn.preprocessing import FunctionTransformer\n",
    "# Preprocessing\n",
    "from sklearn.feature_extraction.text import CountVectorizer\n",
    "from sklearn.feature_extraction.text import TfidfTransformer\n",
    "from sklearn.base import BaseEstimator, TransformerMixin\n",
    "from sklearn.compose import ColumnTransformer\n",
    "#Decomposition\n",
    "from sklearn.decomposition import TruncatedSVD\n",
    "from sklearn.random_projection import GaussianRandomProjection\n",
    "# Model\n",
    "from sklearn.svm import SVC\n",
    "from sklearn.ensemble import RandomForestClassifier\n",
    "from sklearn.naive_bayes import MultinomialNB\n",
    "from sklearn.linear_model import LogisticRegression\n",
    "from sklearn.linear_model import PassiveAggressiveClassifier\n",
    "from sklearn.neighbors import KNeighborsClassifier\n",
    "from sklearn.neighbors import NearestCentroid\n",
    "from sklearn.ensemble import GradientBoostingClassifier\n",
    "# Đánh giá mô hình\n",
    "from sklearn.metrics import accuracy_score\n",
    "from sklearn.metrics import precision_score\n",
    "from sklearn.metrics import recall_score\n",
    "from sklearn.metrics import f1_score\n",
    "from sklearn.metrics import confusion_matrix\n",
    "from sklearn import metrics\n",
    "# Trực quan\n",
    "import matplotlib.pyplot as plt\n",
    "import seaborn as sns\n",
    "from sklearn import set_config\n",
    "set_config(display='diagram') \n",
    "\n",
    "import time # Tính thời gian\n",
    "import pickle # Lưu object\n",
    "import warnings \n",
    "warnings.filterwarnings('ignore')"
   ]
  },
  {
   "cell_type": "code",
   "execution_count": 2,
   "metadata": {
    "id": "jgaYbMZKWOG9"
   },
   "outputs": [],
   "source": [
    "# Load thư viện hỗ trợ word-segment tiếng việt \n",
    "annotator = VnCoreNLP(\"VnCoreNLP-1.1.1.jar\", annotators=\"wseg\", max_heap_size='-Xmx2g') "
   ]
  },
  {
   "cell_type": "markdown",
   "metadata": {
    "id": "qNk25Ax7wY6X"
   },
   "source": [
    "# Tiền xử lý tập dữ liệu"
   ]
  },
  {
   "cell_type": "markdown",
   "metadata": {
    "id": "tE5rdlMiwdjs"
   },
   "source": [
    "## Đọc file"
   ]
  },
  {
   "cell_type": "code",
   "execution_count": 3,
   "metadata": {
    "colab": {
     "base_uri": "https://localhost:8080/"
    },
    "id": "Tk9MiqOmiRNp",
    "outputId": "4e01a52e-ef3a-4575-cdaa-e70fa068d7db"
   },
   "outputs": [
    {
     "data": {
      "text/html": [
       "<div>\n",
       "<style scoped>\n",
       "    .dataframe tbody tr th:only-of-type {\n",
       "        vertical-align: middle;\n",
       "    }\n",
       "\n",
       "    .dataframe tbody tr th {\n",
       "        vertical-align: top;\n",
       "    }\n",
       "\n",
       "    .dataframe thead th {\n",
       "        text-align: right;\n",
       "    }\n",
       "</style>\n",
       "<table border=\"1\" class=\"dataframe\">\n",
       "  <thead>\n",
       "    <tr style=\"text-align: right;\">\n",
       "      <th></th>\n",
       "      <th>text</th>\n",
       "      <th>domain</th>\n",
       "      <th>label</th>\n",
       "    </tr>\n",
       "  </thead>\n",
       "  <tbody>\n",
       "    <tr>\n",
       "      <th>0</th>\n",
       "      <td>Thủ tướng Abe cúi đầu xin lỗi vì hành động phi...</td>\n",
       "      <td>binhluan.biz</td>\n",
       "      <td>1</td>\n",
       "    </tr>\n",
       "    <tr>\n",
       "      <th>1</th>\n",
       "      <td>Thủ tướng Nhật cúi đầu xin lỗi vì tinh thần ph...</td>\n",
       "      <td>www.ipick.vn</td>\n",
       "      <td>1</td>\n",
       "    </tr>\n",
       "    <tr>\n",
       "      <th>2</th>\n",
       "      <td>Choáng! Cơ trưởng đeo khăn quàng quẩy banh nóc...</td>\n",
       "      <td>tintucqpvn.net</td>\n",
       "      <td>1</td>\n",
       "    </tr>\n",
       "    <tr>\n",
       "      <th>3</th>\n",
       "      <td>Chưa bao giờ nhạc Kpop lại dễ hát đến thế!!!\\n...</td>\n",
       "      <td>tintucqpvn.net</td>\n",
       "      <td>1</td>\n",
       "    </tr>\n",
       "    <tr>\n",
       "      <th>4</th>\n",
       "      <td>Đại học Hutech sẽ áp dụng cải cách \"Tiếq Việt\"...</td>\n",
       "      <td>www.gioitreviet.net</td>\n",
       "      <td>1</td>\n",
       "    </tr>\n",
       "  </tbody>\n",
       "</table>\n",
       "</div>"
      ],
      "text/plain": [
       "                                                text               domain  \\\n",
       "0  Thủ tướng Abe cúi đầu xin lỗi vì hành động phi...         binhluan.biz   \n",
       "1  Thủ tướng Nhật cúi đầu xin lỗi vì tinh thần ph...         www.ipick.vn   \n",
       "2  Choáng! Cơ trưởng đeo khăn quàng quẩy banh nóc...       tintucqpvn.net   \n",
       "3  Chưa bao giờ nhạc Kpop lại dễ hát đến thế!!!\\n...       tintucqpvn.net   \n",
       "4  Đại học Hutech sẽ áp dụng cải cách \"Tiếq Việt\"...  www.gioitreviet.net   \n",
       "\n",
       "   label  \n",
       "0      1  \n",
       "1      1  \n",
       "2      1  \n",
       "3      1  \n",
       "4      1  "
      ]
     },
     "execution_count": 3,
     "metadata": {},
     "output_type": "execute_result"
    }
   ],
   "source": [
    "news_df = pd.read_csv('vn_news_223_tdlfr.csv')\n",
    "news_df.head()"
   ]
  },
  {
   "cell_type": "markdown",
   "metadata": {
    "id": "5qly8vIEkZCe"
   },
   "source": [
    "### **Dữ liệu có bao nhiêu dòng và bao nhiêu cột?**"
   ]
  },
  {
   "cell_type": "code",
   "execution_count": 4,
   "metadata": {
    "colab": {
     "base_uri": "https://localhost:8080/"
    },
    "id": "rOfmKcf8i1hI",
    "outputId": "d6bf4a66-d487-4769-9e37-e5ef5baa145f"
   },
   "outputs": [
    {
     "data": {
      "text/plain": [
       "(223, 3)"
      ]
     },
     "execution_count": 4,
     "metadata": {},
     "output_type": "execute_result"
    }
   ],
   "source": [
    "news_df.shape"
   ]
  },
  {
   "cell_type": "markdown",
   "metadata": {
    "id": "NHJQKbuqkkPa"
   },
   "source": [
    "Vậy tập news_df có 223 dòng và 3 cột"
   ]
  },
  {
   "cell_type": "markdown",
   "metadata": {
    "id": "lL5w5XoZup7H"
   },
   "source": [
    "### **Dữ liệu thiếu không ?**"
   ]
  },
  {
   "cell_type": "code",
   "execution_count": 5,
   "metadata": {
    "colab": {
     "base_uri": "https://localhost:8080/"
    },
    "id": "BCurcXwTqxpN",
    "outputId": "3eda3aab-61de-414c-c997-205943d9e7f4"
   },
   "outputs": [
    {
     "name": "stdout",
     "output_type": "stream",
     "text": [
      "<class 'pandas.core.frame.DataFrame'>\n",
      "RangeIndex: 223 entries, 0 to 222\n",
      "Data columns (total 3 columns):\n",
      " #   Column  Non-Null Count  Dtype \n",
      "---  ------  --------------  ----- \n",
      " 0   text    223 non-null    object\n",
      " 1   domain  223 non-null    object\n",
      " 2   label   223 non-null    int64 \n",
      "dtypes: int64(1), object(2)\n",
      "memory usage: 5.4+ KB\n"
     ]
    }
   ],
   "source": [
    "news_df.info()"
   ]
  },
  {
   "cell_type": "markdown",
   "metadata": {
    "id": "VXxP84gnrzwK"
   },
   "source": [
    "Không có dữ liệu thiếu ở các cột"
   ]
  },
  {
   "cell_type": "markdown",
   "metadata": {
    "id": "nk0i-fKnpfqb"
   },
   "source": [
    "## **Xử lý các dòng**"
   ]
  },
  {
   "cell_type": "markdown",
   "metadata": {
    "id": "GznM3pYclEKx"
   },
   "source": [
    "####  **Dữ liệu có các dòng bị lặp không?**"
   ]
  },
  {
   "cell_type": "code",
   "execution_count": 6,
   "metadata": {
    "colab": {
     "base_uri": "https://localhost:8080/"
    },
    "id": "KDNxPZGilRWc",
    "outputId": "2b032a44-c147-4951-f6b7-e7772c5da73d"
   },
   "outputs": [
    {
     "data": {
      "text/plain": [
       "1"
      ]
     },
     "execution_count": 6,
     "metadata": {},
     "output_type": "execute_result"
    }
   ],
   "source": [
    "news_df.duplicated().sum()"
   ]
  },
  {
   "cell_type": "markdown",
   "metadata": {
    "id": "QdFXIl1Fm1tz"
   },
   "source": [
    "Tập news_df có 1 dòng lặp. Ta tiến hành loại bỏ dòng lặp"
   ]
  },
  {
   "cell_type": "code",
   "execution_count": 7,
   "metadata": {
    "id": "ebY5F4RQjFYq"
   },
   "outputs": [],
   "source": [
    "news_df.drop_duplicates();"
   ]
  },
  {
   "cell_type": "markdown",
   "metadata": {
    "id": "BjfmkNTZnEAd"
   },
   "source": [
    "#### **Mỗi dòng có ý nghĩa gì? Có vấn đề các dòng có ý nghĩa khác nhau không?**"
   ]
  },
  {
   "cell_type": "markdown",
   "metadata": {
    "id": "TZlaDAG7nCPL"
   },
   "source": [
    "Mỗi dòng cho biết dữ liệu các bài báo và domain name của nó. <br> \n",
    "Không có vấn đề các dòng có ý nghĩa khác nhau."
   ]
  },
  {
   "cell_type": "markdown",
   "metadata": {
    "id": "-Q8A1hG1pv0K"
   },
   "source": [
    "## **Xử lý các cột**"
   ]
  },
  {
   "cell_type": "markdown",
   "metadata": {
    "id": "JXzfrzpqntHL"
   },
   "source": [
    "#### **Mỗi cột có ý nghĩa gì?**"
   ]
  },
  {
   "cell_type": "markdown",
   "metadata": {
    "id": "b3NW4aJpnJyV"
   },
   "source": [
    "|Thuộc tính|Kiểu dữ liệu| Ý nghĩa |\n",
    "|:---:|:---:|:---:|\n",
    "|text|string|nội dung bài báo|\n",
    "|domain|string|tên miền bài báo|\n",
    "|label|boolean|nhãn phân loại tin giả (1) hay thật (0)|"
   ]
  },
  {
   "cell_type": "markdown",
   "metadata": {
    "id": "SSSlszKll2QA"
   },
   "source": [
    "#### **Kiểu dữ liệu hiện tại mỗi cột**"
   ]
  },
  {
   "cell_type": "code",
   "execution_count": 8,
   "metadata": {
    "colab": {
     "base_uri": "https://localhost:8080/"
    },
    "id": "IJWVi7R-2C7O",
    "outputId": "51c1285f-0f73-4cc4-c5a3-fd66362e92c5"
   },
   "outputs": [
    {
     "data": {
      "text/plain": [
       "array([1, 0], dtype=int64)"
      ]
     },
     "execution_count": 8,
     "metadata": {},
     "output_type": "execute_result"
    }
   ],
   "source": [
    "news_df.label.unique() # Kiểm tra miền dữ liệu ouput"
   ]
  },
  {
   "cell_type": "code",
   "execution_count": 9,
   "metadata": {
    "colab": {
     "base_uri": "https://localhost:8080/"
    },
    "id": "7w--f8xilwWj",
    "outputId": "afe84750-44b1-43c3-c002-fe9419cea5f7"
   },
   "outputs": [
    {
     "data": {
      "text/plain": [
       "text      object\n",
       "domain    object\n",
       "label      int64\n",
       "dtype: object"
      ]
     },
     "execution_count": 9,
     "metadata": {},
     "output_type": "execute_result"
    }
   ],
   "source": [
    "news_df.dtypes"
   ]
  },
  {
   "cell_type": "code",
   "execution_count": 10,
   "metadata": {
    "id": "y074bBH11sIY"
   },
   "outputs": [],
   "source": [
    "news_df.text = news_df.text.astype('string');\n",
    "news_df.domain = news_df.domain.astype('string');\n",
    "news_df.label = news_df.label.astype('bool');"
   ]
  },
  {
   "cell_type": "markdown",
   "metadata": {
    "id": "tWaPutnImm4E"
   },
   "source": [
    "Kiểu dữ liệu các cột đều phù hợp. "
   ]
  },
  {
   "cell_type": "markdown",
   "metadata": {
    "id": "BL6Rg2yjraaG"
   },
   "source": [
    "#### **Kiểm tra phân bố cột output**"
   ]
  },
  {
   "cell_type": "code",
   "execution_count": 11,
   "metadata": {
    "colab": {
     "base_uri": "https://localhost:8080/"
    },
    "id": "BcQnoMbxlVG1",
    "outputId": "dcd3c355-4ab8-432b-8abb-a7d360a40d25"
   },
   "outputs": [
    {
     "data": {
      "text/plain": [
       "0"
      ]
     },
     "execution_count": 11,
     "metadata": {},
     "output_type": "execute_result"
    }
   ],
   "source": [
    "# Cột output có bao nhiêu giá trị thiếu?\n",
    "news_df['label'].isna().sum()"
   ]
  },
  {
   "cell_type": "code",
   "execution_count": 12,
   "metadata": {
    "colab": {
     "base_uri": "https://localhost:8080/"
    },
    "id": "i758Nmi0lVG2",
    "outputId": "59e1648f-2c5f-46fc-edf8-1a8b09ccb9c1"
   },
   "outputs": [
    {
     "data": {
      "text/plain": [
       "False    55.156951\n",
       "True     44.843049\n",
       "Name: label, dtype: float64"
      ]
     },
     "execution_count": 12,
     "metadata": {},
     "output_type": "execute_result"
    },
    {
     "data": {
      "image/png": "[encoded data removed]",
      "text/plain": [
       "<Figure size 432x288 with 1 Axes>"
      ]
     },
     "metadata": {
      "needs_background": "light"
     },
     "output_type": "display_data"
    }
   ],
   "source": [
    "# Tỉ lệ các lớp trong cột output?\n",
    "news_df.label.value_counts(normalize=True).plot(kind=\"bar\", color=[\"red\", \"blue\"])\n",
    "news_df['label'].value_counts(normalize=True) * 100"
   ]
  },
  {
   "cell_type": "markdown",
   "metadata": {
    "id": "6-5F04gesXA2"
   },
   "source": [
    "Tỉ lệ giữa các giá trị cột output khá cân bằng"
   ]
  },
  {
   "cell_type": "markdown",
   "metadata": {
    "id": "U6M0JRhgXEtB"
   },
   "source": [
    "#### **Tách tập huấn luyện và kiểm thử**"
   ]
  },
  {
   "cell_type": "code",
   "execution_count": 13,
   "metadata": {
    "Collapsed": "false",
    "id": "GOxpBQ2hlVG3"
   },
   "outputs": [],
   "source": [
    "# Tách X và y\n",
    "y_sr = news_df[\"label\"] \n",
    "X_df = news_df.drop(\"label\", axis=1)"
   ]
  },
  {
   "cell_type": "code",
   "execution_count": 14,
   "metadata": {
    "Collapsed": "false",
    "id": "tBKNBvtPlVG3"
   },
   "outputs": [],
   "source": [
    "# Tách tập huấn luyện và tập validation theo tỉ lệ 80%:20%\n",
    "train_X_df, test_X_df, train_y_sr, test_y_sr = train_test_split(X_df, y_sr, test_size=0.2, stratify=y_sr, random_state=9)"
   ]
  },
  {
   "cell_type": "markdown",
   "metadata": {
    "id": "WRi6hSfkMY_y"
   },
   "source": [
    "# Tiền xử lý ngôn ngữ"
   ]
  },
  {
   "cell_type": "markdown",
   "metadata": {
    "id": "01i1S_tZglhc"
   },
   "source": [
    "Tiền xử lý ngôn ngữ tiêng việt:\n",
    "*   Word Embedding : N-grams Vectorization\n",
    "*   Loại bỏ ký tự đặc biệt\n",
    "*   Chuẩn hoá sang chữ thường\n",
    "*   Chuẩn hoá sang chữ thường\n",
    "*   Loại bỏ stop word"
   ]
  },
  {
   "cell_type": "code",
   "execution_count": 15,
   "metadata": {
    "id": "VSV4JC2a5v-C"
   },
   "outputs": [],
   "source": [
    "# Xử lý cột text\n",
    "class PreprocessText(BaseEstimator, TransformerMixin):\n",
    "    def __init__(self):\n",
    "      self.pattern = \"[^a-z0-9A-Z_ÀÁÂÃÈÉÊÌÍÒÓÔÕÙÚĂĐĨŨƠàáâãèéêìíòóôõùúăđĩũơƯĂẠẢẤẦẨẪẬẮẰẲẴẶẸẺẼỀỀỂưăạảấầẩẫậắằẳẵặẹẻẽềềểỄỆỈỊỌỎỐỒỔỖỘỚỜỞỠỢỤỦỨỪễệỉịọỏốồổỗộớờởỡợụủứừỬỮỰỲỴÝỶỸửữựỳỵỷỹ ]*\"\n",
    "      with open(\"vietnamese-stopwords.txt\",encoding=\"utf-8\") as f :\n",
    "        self.stop_word = f.read().splitlines()\n",
    "      return\n",
    "\n",
    "    def fit(self, X_df, y=None):\n",
    "      return self\n",
    "      \n",
    "    def transform(self, X_df, y=None):\n",
    "      data = []\n",
    "      for text in X_df['text']:\n",
    "        # Chuẩn hoá cột text\n",
    "        # 1.Loại bỏ ký tự đặc biệt\n",
    "        text = re.sub(self.pattern, '',text)\n",
    "        # 2.Tách từ\n",
    "        text = annotator.tokenize(text)\n",
    "        # 3.Loại bỏ stop_word\n",
    "        text = [word for word in text[0] if word not in self.stop_word]\n",
    "        # 4.Chuẩn hoá chữ thường\n",
    "        text = [word.lower() for word in text]\n",
    "\n",
    "        data.append(text)\n",
    "      return pd.DataFrame({'text':data})"
   ]
  },
  {
   "cell_type": "code",
   "execution_count": 16,
   "metadata": {
    "id": "XPgEl7qm5FnS"
   },
   "outputs": [],
   "source": [
    "# Xử lý cột domain (thêm secret để tạo đặc trưng độc lập với cột text)\n",
    "class PreprocessDomain(BaseEstimator, TransformerMixin):\n",
    "    def __init__(self):\n",
    "      self.secret = '$&#'\n",
    "      return\n",
    "\n",
    "    def fit(self, X_df, y=None):\n",
    "      return self\n",
    "      \n",
    "    def transform(self, X_df, y=None):\n",
    "      data = []\n",
    "      for domain in X_df['domain']:\n",
    "        # Chuẩn hoá cột domain\n",
    "        # 1.Loại bỏ ký tự đặc biệt\n",
    "        domain = domain.replace('.', ' ')\n",
    "        # 2.Tách từ\n",
    "        domain = annotator.tokenize(domain)\n",
    "        # 3.Chuẩn hoá chữ thường\n",
    "        domain = [word.lower() for word in domain[0]]\n",
    "        # 4.Chuẩn hoá chữ thường\n",
    "        domain = [word + self.secret for word in domain]\n",
    "        data.append(domain)\n",
    "      return pd.DataFrame({'domain':data})"
   ]
  },
  {
   "cell_type": "code",
   "execution_count": 17,
   "metadata": {
    "id": "LX4_Wbmb6yqM"
   },
   "outputs": [],
   "source": [
    "class MergeCol(BaseEstimator, TransformerMixin):\n",
    "    def __init__(self):\n",
    "      return\n",
    "    def fit(self, X_df, y=None):\n",
    "      return self\n",
    "    def transform(self, X_df, y=None):\n",
    "      return [x[0]+x[1] for x in X_df]"
   ]
  },
  {
   "cell_type": "markdown",
   "metadata": {
    "id": "LHx4m7Umgs_K"
   },
   "source": [
    "# Tạo Pipeline"
   ]
  },
  {
   "cell_type": "markdown",
   "metadata": {
    "id": "B8uc-VES8pqP"
   },
   "source": [
    "**Preprocessor pipeline**"
   ]
  },
  {
   "cell_type": "code",
   "execution_count": 18,
   "metadata": {
    "id": "BOXPFto_qy7q"
   },
   "outputs": [],
   "source": [
    "colTransformer = ColumnTransformer(transformers=[  # Xử lý cột\n",
    "  ('text', PreprocessText(), ['text']),\n",
    "  ('domain', PreprocessDomain(), ['domain'])])\n",
    "preprocessor = make_pipeline(colTransformer, MergeCol())"
   ]
  },
  {
   "cell_type": "markdown",
   "metadata": {
    "id": "pUkOj3jp8lLb"
   },
   "source": [
    "**Vectorizer pipeline**"
   ]
  },
  {
   "cell_type": "code",
   "execution_count": 19,
   "metadata": {
    "id": "fZv0ectbhv6f"
   },
   "outputs": [],
   "source": [
    "def dummy(x): return x\n",
    "vectorizer = make_pipeline(\n",
    "    CountVectorizer(tokenizer=dummy,lowercase= False), # Count and vectorizer\n",
    "    TfidfTransformer()) #Tfidf"
   ]
  },
  {
   "cell_type": "markdown",
   "metadata": {
    "id": "aY-8pWy3zWN9"
   },
   "source": [
    "**Decomposor pipeline**"
   ]
  },
  {
   "cell_type": "code",
   "execution_count": 20,
   "metadata": {
    "id": "50Cst26z1NkE"
   },
   "outputs": [],
   "source": [
    "decomposors = {\n",
    "    'grp' : GaussianRandomProjection(),\n",
    "    'tsvd' : TruncatedSVD(n_components=180), #best n_components GridSearchCV\n",
    "    '' : FunctionTransformer(dummy), # skip decomposors\n",
    "    }\n",
    "decomposor = make_pipeline(decomposors['tsvd'])"
   ]
  },
  {
   "cell_type": "markdown",
   "metadata": {
    "id": "gLAUs1zd_4_D"
   },
   "source": [
    "**Model pipeline**"
   ]
  },
  {
   "cell_type": "markdown",
   "metadata": {
    "id": "tsyMuD6R8Fyl"
   },
   "source": [
    "Các siêu tham số tốt được chọn ra thông qua GridSearchCV"
   ]
  },
  {
   "cell_type": "code",
   "execution_count": 21,
   "metadata": {
    "id": "z07fBl9EXZwS"
   },
   "outputs": [],
   "source": [
    "models = {\n",
    "    'lgr' : LogisticRegression(penalty= 'l2', C=20, solver='newton-cg'),\n",
    "    'rfc' : RandomForestClassifier(class_weight = 'balanced_subsample',n_estimators= 200,max_features='auto',max_depth=30),\n",
    "    'mnb' : MultinomialNB(alpha=0.2),\n",
    "    'svc' : SVC(C=7, gamma='scale', kernel='sigmoid', verbose=True, probability=True), \n",
    "    'gbc' : GradientBoostingClassifier(n_estimators=5, learning_rate= 0.08, verbose=True, max_features='auto'),\n",
    "    'pac' : PassiveAggressiveClassifier(C = 0.03, loss= 'hinge', verbose=True, n_jobs=-1 ),\n",
    "    }\n",
    "model = make_pipeline(models['svc'])"
   ]
  },
  {
   "cell_type": "markdown",
   "metadata": {
    "id": "p5lv6msN8vyx"
   },
   "source": [
    "**Full-pipeline**"
   ]
  },
  {
   "cell_type": "code",
   "execution_count": 22,
   "metadata": {
    "colab": {
     "base_uri": "https://localhost:8080/",
     "height": 436
    },
    "id": "uOePJ_syTQIM",
    "outputId": "37333764-c79b-4537-ef8a-3ce1e70d341a"
   },
   "outputs": [
    {
     "data": {
      "text/html": [
       "<style>#sk-7f3593be-6c78-4bb9-ad5d-a531ad5f8f00 {color: black;background-color: white;}#sk-7f3593be-6c78-4bb9-ad5d-a531ad5f8f00 pre{padding: 0;}#sk-7f3593be-6c78-4bb9-ad5d-a531ad5f8f00 div.sk-toggleable {background-color: white;}#sk-7f3593be-6c78-4bb9-ad5d-a531ad5f8f00 label.sk-toggleable__label {cursor: pointer;display: block;width: 100%;margin-bottom: 0;padding: 0.3em;box-sizing: border-box;text-align: center;}#sk-7f3593be-6c78-4bb9-ad5d-a531ad5f8f00 label.sk-toggleable__label-arrow:before {content: \"▸\";float: left;margin-right: 0.25em;color: #696969;}#sk-7f3593be-6c78-4bb9-ad5d-a531ad5f8f00 label.sk-toggleable__label-arrow:hover:before {color: black;}#sk-7f3593be-6c78-4bb9-ad5d-a531ad5f8f00 div.sk-estimator:hover label.sk-toggleable__label-arrow:before {color: black;}#sk-7f3593be-6c78-4bb9-ad5d-a531ad5f8f00 div.sk-toggleable__content {max-height: 0;max-width: 0;overflow: hidden;text-align: left;background-color: #f0f8ff;}#sk-7f3593be-6c78-4bb9-ad5d-a531ad5f8f00 div.sk-toggleable__content pre {margin: 0.2em;color: black;border-radius: 0.25em;background-color: #f0f8ff;}#sk-7f3593be-6c78-4bb9-ad5d-a531ad5f8f00 input.sk-toggleable__control:checked~div.sk-toggleable__content {max-height: 200px;max-width: 100%;overflow: auto;}#sk-7f3593be-6c78-4bb9-ad5d-a531ad5f8f00 input.sk-toggleable__control:checked~label.sk-toggleable__label-arrow:before {content: \"▾\";}#sk-7f3593be-6c78-4bb9-ad5d-a531ad5f8f00 div.sk-estimator input.sk-toggleable__control:checked~label.sk-toggleable__label {background-color: #d4ebff;}#sk-7f3593be-6c78-4bb9-ad5d-a531ad5f8f00 div.sk-label input.sk-toggleable__control:checked~label.sk-toggleable__label {background-color: #d4ebff;}#sk-7f3593be-6c78-4bb9-ad5d-a531ad5f8f00 input.sk-hidden--visually {border: 0;clip: rect(1px 1px 1px 1px);clip: rect(1px, 1px, 1px, 1px);height: 1px;margin: -1px;overflow: hidden;padding: 0;position: absolute;width: 1px;}#sk-7f3593be-6c78-4bb9-ad5d-a531ad5f8f00 div.sk-estimator {font-family: monospace;background-color: #f0f8ff;border: 1px dotted black;border-radius: 0.25em;box-sizing: border-box;margin-bottom: 0.5em;}#sk-7f3593be-6c78-4bb9-ad5d-a531ad5f8f00 div.sk-estimator:hover {background-color: #d4ebff;}#sk-7f3593be-6c78-4bb9-ad5d-a531ad5f8f00 div.sk-parallel-item::after {content: \"\";width: 100%;border-bottom: 1px solid gray;flex-grow: 1;}#sk-7f3593be-6c78-4bb9-ad5d-a531ad5f8f00 div.sk-label:hover label.sk-toggleable__label {background-color: #d4ebff;}#sk-7f3593be-6c78-4bb9-ad5d-a531ad5f8f00 div.sk-serial::before {content: \"\";position: absolute;border-left: 1px solid gray;box-sizing: border-box;top: 2em;bottom: 0;left: 50%;}#sk-7f3593be-6c78-4bb9-ad5d-a531ad5f8f00 div.sk-serial {display: flex;flex-direction: column;align-items: center;background-color: white;padding-right: 0.2em;padding-left: 0.2em;}#sk-7f3593be-6c78-4bb9-ad5d-a531ad5f8f00 div.sk-item {z-index: 1;}#sk-7f3593be-6c78-4bb9-ad5d-a531ad5f8f00 div.sk-parallel {display: flex;align-items: stretch;justify-content: center;background-color: white;}#sk-7f3593be-6c78-4bb9-ad5d-a531ad5f8f00 div.sk-parallel::before {content: \"\";position: absolute;border-left: 1px solid gray;box-sizing: border-box;top: 2em;bottom: 0;left: 50%;}#sk-7f3593be-6c78-4bb9-ad5d-a531ad5f8f00 div.sk-parallel-item {display: flex;flex-direction: column;position: relative;background-color: white;}#sk-7f3593be-6c78-4bb9-ad5d-a531ad5f8f00 div.sk-parallel-item:first-child::after {align-self: flex-end;width: 50%;}#sk-7f3593be-6c78-4bb9-ad5d-a531ad5f8f00 div.sk-parallel-item:last-child::after {align-self: flex-start;width: 50%;}#sk-7f3593be-6c78-4bb9-ad5d-a531ad5f8f00 div.sk-parallel-item:only-child::after {width: 0;}#sk-7f3593be-6c78-4bb9-ad5d-a531ad5f8f00 div.sk-dashed-wrapped {border: 1px dashed gray;margin: 0 0.4em 0.5em 0.4em;box-sizing: border-box;padding-bottom: 0.4em;background-color: white;position: relative;}#sk-7f3593be-6c78-4bb9-ad5d-a531ad5f8f00 div.sk-label label {font-family: monospace;font-weight: bold;background-color: white;display: inline-block;line-height: 1.2em;}#sk-7f3593be-6c78-4bb9-ad5d-a531ad5f8f00 div.sk-label-container {position: relative;z-index: 2;text-align: center;}#sk-7f3593be-6c78-4bb9-ad5d-a531ad5f8f00 div.sk-container {/* jupyter's `normalize.less` sets `[hidden] { display: none; }` but bootstrap.min.css set `[hidden] { display: none !important; }` so we also need the `!important` here to be able to override the default hidden behavior on the sphinx rendered scikit-learn.org. See: https://github.com/scikit-learn/scikit-learn/issues/21755 */display: inline-block !important;position: relative;}#sk-7f3593be-6c78-4bb9-ad5d-a531ad5f8f00 div.sk-text-repr-fallback {display: none;}</style><div id=\"sk-7f3593be-6c78-4bb9-ad5d-a531ad5f8f00\" class=\"sk-top-container\"><div class=\"sk-text-repr-fallback\"><pre>Pipeline(steps=[(&#x27;preprocessor&#x27;,\n",
       "                 Pipeline(steps=[(&#x27;columntransformer&#x27;,\n",
       "                                  ColumnTransformer(transformers=[(&#x27;text&#x27;,\n",
       "                                                                   PreprocessText(),\n",
       "                                                                   [&#x27;text&#x27;]),\n",
       "                                                                  (&#x27;domain&#x27;,\n",
       "                                                                   PreprocessDomain(),\n",
       "                                                                   [&#x27;domain&#x27;])])),\n",
       "                                 (&#x27;mergecol&#x27;, MergeCol())])),\n",
       "                (&#x27;vectorizer&#x27;,\n",
       "                 Pipeline(steps=[(&#x27;countvectorizer&#x27;,\n",
       "                                  CountVectorizer(lowercase=False,\n",
       "                                                  tokenizer=&lt;function dummy at 0x000002A3DD23A820&gt;)),\n",
       "                                 (&#x27;tfidftransformer&#x27;, TfidfTransformer())])),\n",
       "                (&#x27;decomposor&#x27;,\n",
       "                 Pipeline(steps=[(&#x27;truncatedsvd&#x27;,\n",
       "                                  TruncatedSVD(n_components=180))])),\n",
       "                (&#x27;model&#x27;,\n",
       "                 Pipeline(steps=[(&#x27;svc&#x27;,\n",
       "                                  SVC(C=7, kernel=&#x27;sigmoid&#x27;, probability=True,\n",
       "                                      verbose=True))]))])</pre><b>Please rerun this cell to show the HTML repr or trust the notebook.</b></div><div class=\"sk-container\" hidden><div class=\"sk-item sk-dashed-wrapped\"><div class=\"sk-label-container\"><div class=\"sk-label sk-toggleable\"><input class=\"sk-toggleable__control sk-hidden--visually\" id=\"7b3c9138-faac-49d0-8cd3-80943f99b023\" type=\"checkbox\" ><label for=\"7b3c9138-faac-49d0-8cd3-80943f99b023\" class=\"sk-toggleable__label sk-toggleable__label-arrow\">Pipeline</label><div class=\"sk-toggleable__content\"><pre>Pipeline(steps=[(&#x27;preprocessor&#x27;,\n",
       "                 Pipeline(steps=[(&#x27;columntransformer&#x27;,\n",
       "                                  ColumnTransformer(transformers=[(&#x27;text&#x27;,\n",
       "                                                                   PreprocessText(),\n",
       "                                                                   [&#x27;text&#x27;]),\n",
       "                                                                  (&#x27;domain&#x27;,\n",
       "                                                                   PreprocessDomain(),\n",
       "                                                                   [&#x27;domain&#x27;])])),\n",
       "                                 (&#x27;mergecol&#x27;, MergeCol())])),\n",
       "                (&#x27;vectorizer&#x27;,\n",
       "                 Pipeline(steps=[(&#x27;countvectorizer&#x27;,\n",
       "                                  CountVectorizer(lowercase=False,\n",
       "                                                  tokenizer=&lt;function dummy at 0x000002A3DD23A820&gt;)),\n",
       "                                 (&#x27;tfidftransformer&#x27;, TfidfTransformer())])),\n",
       "                (&#x27;decomposor&#x27;,\n",
       "                 Pipeline(steps=[(&#x27;truncatedsvd&#x27;,\n",
       "                                  TruncatedSVD(n_components=180))])),\n",
       "                (&#x27;model&#x27;,\n",
       "                 Pipeline(steps=[(&#x27;svc&#x27;,\n",
       "                                  SVC(C=7, kernel=&#x27;sigmoid&#x27;, probability=True,\n",
       "                                      verbose=True))]))])</pre></div></div></div><div class=\"sk-serial\"><div class=\"sk-item\"><div class=\"sk-label-container\"><div class=\"sk-label sk-toggleable\"><input class=\"sk-toggleable__control sk-hidden--visually\" id=\"2401dbb2-da01-42ed-a36d-b590e1b7f1e6\" type=\"checkbox\" ><label for=\"2401dbb2-da01-42ed-a36d-b590e1b7f1e6\" class=\"sk-toggleable__label sk-toggleable__label-arrow\">preprocessor: Pipeline</label><div class=\"sk-toggleable__content\"><pre>Pipeline(steps=[(&#x27;columntransformer&#x27;,\n",
       "                 ColumnTransformer(transformers=[(&#x27;text&#x27;, PreprocessText(),\n",
       "                                                  [&#x27;text&#x27;]),\n",
       "                                                 (&#x27;domain&#x27;, PreprocessDomain(),\n",
       "                                                  [&#x27;domain&#x27;])])),\n",
       "                (&#x27;mergecol&#x27;, MergeCol())])</pre></div></div></div><div class=\"sk-serial\"><div class=\"sk-item sk-dashed-wrapped\"><div class=\"sk-label-container\"><div class=\"sk-label sk-toggleable\"><input class=\"sk-toggleable__control sk-hidden--visually\" id=\"b8cba257-1d3c-4387-92e9-0e66955ec6c2\" type=\"checkbox\" ><label for=\"b8cba257-1d3c-4387-92e9-0e66955ec6c2\" class=\"sk-toggleable__label sk-toggleable__label-arrow\">columntransformer: ColumnTransformer</label><div class=\"sk-toggleable__content\"><pre>ColumnTransformer(transformers=[(&#x27;text&#x27;, PreprocessText(), [&#x27;text&#x27;]),\n",
       "                                (&#x27;domain&#x27;, PreprocessDomain(), [&#x27;domain&#x27;])])</pre></div></div></div><div class=\"sk-parallel\"><div class=\"sk-parallel-item\"><div class=\"sk-item\"><div class=\"sk-label-container\"><div class=\"sk-label sk-toggleable\"><input class=\"sk-toggleable__control sk-hidden--visually\" id=\"18d5b263-7e43-4d7b-a7e0-f1c76a4169ec\" type=\"checkbox\" ><label for=\"18d5b263-7e43-4d7b-a7e0-f1c76a4169ec\" class=\"sk-toggleable__label sk-toggleable__label-arrow\">text</label><div class=\"sk-toggleable__content\"><pre>[&#x27;text&#x27;]</pre></div></div></div><div class=\"sk-serial\"><div class=\"sk-item\"><div class=\"sk-estimator sk-toggleable\"><input class=\"sk-toggleable__control sk-hidden--visually\" id=\"b4857357-dc69-4cbd-9550-0e6354aecfec\" type=\"checkbox\" ><label for=\"b4857357-dc69-4cbd-9550-0e6354aecfec\" class=\"sk-toggleable__label sk-toggleable__label-arrow\">PreprocessText</label><div class=\"sk-toggleable__content\"><pre>PreprocessText()</pre></div></div></div></div></div></div><div class=\"sk-parallel-item\"><div class=\"sk-item\"><div class=\"sk-label-container\"><div class=\"sk-label sk-toggleable\"><input class=\"sk-toggleable__control sk-hidden--visually\" id=\"5a8be9f3-a0fb-46f1-92ca-3af3bd515728\" type=\"checkbox\" ><label for=\"5a8be9f3-a0fb-46f1-92ca-3af3bd515728\" class=\"sk-toggleable__label sk-toggleable__label-arrow\">domain</label><div class=\"sk-toggleable__content\"><pre>[&#x27;domain&#x27;]</pre></div></div></div><div class=\"sk-serial\"><div class=\"sk-item\"><div class=\"sk-estimator sk-toggleable\"><input class=\"sk-toggleable__control sk-hidden--visually\" id=\"213794d0-7c1f-4fd9-9216-e94a20053f11\" type=\"checkbox\" ><label for=\"213794d0-7c1f-4fd9-9216-e94a20053f11\" class=\"sk-toggleable__label sk-toggleable__label-arrow\">PreprocessDomain</label><div class=\"sk-toggleable__content\"><pre>PreprocessDomain()</pre></div></div></div></div></div></div></div></div><div class=\"sk-item\"><div class=\"sk-estimator sk-toggleable\"><input class=\"sk-toggleable__control sk-hidden--visually\" id=\"cf2b494e-0a64-464b-9c6e-efd2e5b647c7\" type=\"checkbox\" ><label for=\"cf2b494e-0a64-464b-9c6e-efd2e5b647c7\" class=\"sk-toggleable__label sk-toggleable__label-arrow\">MergeCol</label><div class=\"sk-toggleable__content\"><pre>MergeCol()</pre></div></div></div></div></div><div class=\"sk-item\"><div class=\"sk-label-container\"><div class=\"sk-label sk-toggleable\"><input class=\"sk-toggleable__control sk-hidden--visually\" id=\"488f5c35-2e47-4944-a878-c18522ddd61d\" type=\"checkbox\" ><label for=\"488f5c35-2e47-4944-a878-c18522ddd61d\" class=\"sk-toggleable__label sk-toggleable__label-arrow\">vectorizer: Pipeline</label><div class=\"sk-toggleable__content\"><pre>Pipeline(steps=[(&#x27;countvectorizer&#x27;,\n",
       "                 CountVectorizer(lowercase=False,\n",
       "                                 tokenizer=&lt;function dummy at 0x000002A3DD23A820&gt;)),\n",
       "                (&#x27;tfidftransformer&#x27;, TfidfTransformer())])</pre></div></div></div><div class=\"sk-serial\"><div class=\"sk-item\"><div class=\"sk-estimator sk-toggleable\"><input class=\"sk-toggleable__control sk-hidden--visually\" id=\"5fb7c304-5264-4db3-97cf-c39a117e0ae0\" type=\"checkbox\" ><label for=\"5fb7c304-5264-4db3-97cf-c39a117e0ae0\" class=\"sk-toggleable__label sk-toggleable__label-arrow\">CountVectorizer</label><div class=\"sk-toggleable__content\"><pre>CountVectorizer(lowercase=False,\n",
       "                tokenizer=&lt;function dummy at 0x000002A3DD23A820&gt;)</pre></div></div></div><div class=\"sk-item\"><div class=\"sk-estimator sk-toggleable\"><input class=\"sk-toggleable__control sk-hidden--visually\" id=\"af0edeaa-d9a0-4b19-9e17-5fc3fe5d6659\" type=\"checkbox\" ><label for=\"af0edeaa-d9a0-4b19-9e17-5fc3fe5d6659\" class=\"sk-toggleable__label sk-toggleable__label-arrow\">TfidfTransformer</label><div class=\"sk-toggleable__content\"><pre>TfidfTransformer()</pre></div></div></div></div></div><div class=\"sk-item\"><div class=\"sk-label-container\"><div class=\"sk-label sk-toggleable\"><input class=\"sk-toggleable__control sk-hidden--visually\" id=\"031655d5-f63b-43fe-a42e-b75b5ebe160e\" type=\"checkbox\" ><label for=\"031655d5-f63b-43fe-a42e-b75b5ebe160e\" class=\"sk-toggleable__label sk-toggleable__label-arrow\">decomposor: Pipeline</label><div class=\"sk-toggleable__content\"><pre>Pipeline(steps=[(&#x27;truncatedsvd&#x27;, TruncatedSVD(n_components=180))])</pre></div></div></div><div class=\"sk-serial\"><div class=\"sk-item\"><div class=\"sk-estimator sk-toggleable\"><input class=\"sk-toggleable__control sk-hidden--visually\" id=\"4c2773c9-7f69-469c-a5fb-583fed75ceeb\" type=\"checkbox\" ><label for=\"4c2773c9-7f69-469c-a5fb-583fed75ceeb\" class=\"sk-toggleable__label sk-toggleable__label-arrow\">TruncatedSVD</label><div class=\"sk-toggleable__content\"><pre>TruncatedSVD(n_components=180)</pre></div></div></div></div></div><div class=\"sk-item\"><div class=\"sk-label-container\"><div class=\"sk-label sk-toggleable\"><input class=\"sk-toggleable__control sk-hidden--visually\" id=\"58bc9644-c28c-4faa-a535-34ca78180869\" type=\"checkbox\" ><label for=\"58bc9644-c28c-4faa-a535-34ca78180869\" class=\"sk-toggleable__label sk-toggleable__label-arrow\">model: Pipeline</label><div class=\"sk-toggleable__content\"><pre>Pipeline(steps=[(&#x27;svc&#x27;,\n",
       "                 SVC(C=7, kernel=&#x27;sigmoid&#x27;, probability=True, verbose=True))])</pre></div></div></div><div class=\"sk-serial\"><div class=\"sk-item\"><div class=\"sk-estimator sk-toggleable\"><input class=\"sk-toggleable__control sk-hidden--visually\" id=\"9414f8f0-91c5-455b-9cbc-924c4de981c7\" type=\"checkbox\" ><label for=\"9414f8f0-91c5-455b-9cbc-924c4de981c7\" class=\"sk-toggleable__label sk-toggleable__label-arrow\">SVC</label><div class=\"sk-toggleable__content\"><pre>SVC(C=7, kernel=&#x27;sigmoid&#x27;, probability=True, verbose=True)</pre></div></div></div></div></div></div></div></div></div>"
      ],
      "text/plain": [
       "Pipeline(steps=[('preprocessor',\n",
       "                 Pipeline(steps=[('columntransformer',\n",
       "                                  ColumnTransformer(transformers=[('text',\n",
       "                                                                   PreprocessText(),\n",
       "                                                                   ['text']),\n",
       "                                                                  ('domain',\n",
       "                                                                   PreprocessDomain(),\n",
       "                                                                   ['domain'])])),\n",
       "                                 ('mergecol', MergeCol())])),\n",
       "                ('vectorizer',\n",
       "                 Pipeline(steps=[('countvectorizer',\n",
       "                                  CountVectorizer(lowercase=False,\n",
       "                                                  tokenizer=<function dummy at 0x000002A3DD23A820>)),\n",
       "                                 ('tfidftransformer', TfidfTransformer())])),\n",
       "                ('decomposor',\n",
       "                 Pipeline(steps=[('truncatedsvd',\n",
       "                                  TruncatedSVD(n_components=180))])),\n",
       "                ('model',\n",
       "                 Pipeline(steps=[('svc',\n",
       "                                  SVC(C=7, kernel='sigmoid', probability=True,\n",
       "                                      verbose=True))]))])"
      ]
     },
     "execution_count": 22,
     "metadata": {},
     "output_type": "execute_result"
    }
   ],
   "source": [
    "pipeline = Pipeline([\n",
    "     ('preprocessor', preprocessor),\n",
    "     ('vectorizer', vectorizer),\n",
    "     ('decomposor', decomposor),\n",
    "     ('model', model)\n",
    "])\n",
    "pipeline # Trực quan cấu trúc chung của pipeline"
   ]
  },
  {
   "cell_type": "markdown",
   "metadata": {
    "id": "EC1RO3njhT9n"
   },
   "source": [
    "# Huấn luyện mô hình"
   ]
  },
  {
   "cell_type": "code",
   "execution_count": 23,
   "metadata": {
    "colab": {
     "base_uri": "https://localhost:8080/"
    },
    "id": "Yqf8FX0nsYP9",
    "outputId": "cc22a5e1-18c7-4926-b925-226728355403"
   },
   "outputs": [
    {
     "name": "stderr",
     "output_type": "stream",
     "text": [
      "A subdirectory or file model already exists.\n",
      "Error occurred while processing: model.\n",
      "A subdirectory or file model already exists.\n",
      "Error occurred while processing: model.\n"
     ]
    }
   ],
   "source": [
    "!mkdir model # Tạo folder chứa model"
   ]
  },
  {
   "cell_type": "code",
   "execution_count": 24,
   "metadata": {
    "colab": {
     "base_uri": "https://localhost:8080/"
    },
    "id": "aZNqkuZlDw3a",
    "outputId": "350111f9-3489-49d3-9574-d0221987383e"
   },
   "outputs": [
    {
     "name": "stdout",
     "output_type": "stream",
     "text": [
      "Train : LogisticRegression_GaussianRandomProjection in 8.95802903175354 seconds\n",
      "> train accurancy : 100.0% \n",
      "\n",
      "Train : RandomForestClassifier_GaussianRandomProjection in 9.013152122497559 seconds\n",
      "> train accurancy : 100.0% \n",
      "\n",
      "[LibSVM]Train : SVC_GaussianRandomProjection in 11.195126056671143 seconds\n",
      "> train accurancy : 100.0% \n",
      "\n",
      "      Iter       Train Loss   Remaining Time \n",
      "         1           1.2630            0.97s\n",
      "         2           1.1650            0.64s\n",
      "         3           1.0750            0.40s\n",
      "         4           0.9947            0.20s\n",
      "         5           0.9302            0.00s\n",
      "Train : GradientBoostingClassifier_GaussianRandomProjection in 9.680790185928345 seconds\n",
      "> train accurancy : 98.87640449438202% \n",
      "\n",
      "-- Epoch 1\n",
      "Norm: 0.60, NNZs: 4441, Bias: -0.540000, T: 178, Avg. loss: 0.968841\n",
      "Total training time: 0.00 seconds.\n",
      "-- Epoch 2\n",
      "Norm: 1.17, NNZs: 4441, Bias: -0.896433, T: 356, Avg. loss: 0.851526\n",
      "Total training time: 0.01 seconds.\n",
      "-- Epoch 3\n",
      "Norm: 1.66, NNZs: 4441, Bias: -0.623991, T: 534, Avg. loss: 0.783686\n",
      "Total training time: 0.01 seconds.\n",
      "-- Epoch 4\n",
      "Norm: 2.19, NNZs: 4441, Bias: -0.712047, T: 712, Avg. loss: 0.741810\n",
      "Total training time: 0.01 seconds.\n",
      "-- Epoch 5\n",
      "Norm: 2.70, NNZs: 4441, Bias: -0.671992, T: 890, Avg. loss: 0.688593\n",
      "Total training time: 0.02 seconds.\n",
      "-- Epoch 6\n",
      "Norm: 3.19, NNZs: 4441, Bias: -0.520545, T: 1068, Avg. loss: 0.639950\n",
      "Total training time: 0.02 seconds.\n",
      "-- Epoch 7\n",
      "Norm: 3.71, NNZs: 4441, Bias: -0.520428, T: 1246, Avg. loss: 0.591611\n",
      "Total training time: 0.02 seconds.\n",
      "-- Epoch 8\n",
      "Norm: 4.22, NNZs: 4441, Bias: -0.487156, T: 1424, Avg. loss: 0.541782\n",
      "Total training time: 0.03 seconds.\n",
      "-- Epoch 9\n",
      "Norm: 4.73, NNZs: 4441, Bias: -0.367068, T: 1602, Avg. loss: 0.487146\n",
      "Total training time: 0.03 seconds.\n",
      "-- Epoch 10\n",
      "Norm: 5.24, NNZs: 4441, Bias: -0.419211, T: 1780, Avg. loss: 0.441522\n",
      "Total training time: 0.04 seconds.\n",
      "-- Epoch 11\n",
      "Norm: 5.71, NNZs: 4441, Bias: -0.113708, T: 1958, Avg. loss: 0.391322\n",
      "Total training time: 0.04 seconds.\n",
      "-- Epoch 12\n",
      "Norm: 6.20, NNZs: 4441, Bias: -0.296572, T: 2136, Avg. loss: 0.353273\n",
      "Total training time: 0.04 seconds.\n",
      "-- Epoch 13\n",
      "Norm: 6.62, NNZs: 4441, Bias: -0.146389, T: 2314, Avg. loss: 0.306649\n",
      "Total training time: 0.05 seconds.\n",
      "-- Epoch 14\n",
      "Norm: 6.99, NNZs: 4441, Bias: -0.202827, T: 2492, Avg. loss: 0.275091\n",
      "Total training time: 0.05 seconds.\n",
      "-- Epoch 15\n",
      "Norm: 7.31, NNZs: 4441, Bias: -0.217244, T: 2670, Avg. loss: 0.245360\n",
      "Total training time: 0.05 seconds.\n",
      "-- Epoch 16\n",
      "Norm: 7.62, NNZs: 4441, Bias: -0.204611, T: 2848, Avg. loss: 0.223805\n",
      "Total training time: 0.06 seconds.\n",
      "-- Epoch 17\n",
      "Norm: 7.90, NNZs: 4441, Bias: -0.187674, T: 3026, Avg. loss: 0.196264\n",
      "Total training time: 0.06 seconds.\n",
      "-- Epoch 18\n",
      "Norm: 8.16, NNZs: 4441, Bias: -0.271922, T: 3204, Avg. loss: 0.180052\n",
      "Total training time: 0.06 seconds.\n",
      "-- Epoch 19\n",
      "Norm: 8.41, NNZs: 4441, Bias: -0.181365, T: 3382, Avg. loss: 0.168425\n",
      "Total training time: 0.07 seconds.\n",
      "-- Epoch 20\n",
      "Norm: 8.62, NNZs: 4441, Bias: -0.321800, T: 3560, Avg. loss: 0.148731\n",
      "Total training time: 0.07 seconds.\n",
      "-- Epoch 21\n",
      "Norm: 8.81, NNZs: 4441, Bias: -0.153722, T: 3738, Avg. loss: 0.140465\n",
      "Total training time: 0.07 seconds.\n",
      "-- Epoch 22\n",
      "Norm: 8.96, NNZs: 4441, Bias: -0.127225, T: 3916, Avg. loss: 0.128557\n",
      "Total training time: 0.08 seconds.\n",
      "-- Epoch 23\n",
      "Norm: 9.11, NNZs: 4441, Bias: -0.073007, T: 4094, Avg. loss: 0.118304\n",
      "Total training time: 0.08 seconds.\n",
      "-- Epoch 24\n",
      "Norm: 9.27, NNZs: 4441, Bias: -0.121113, T: 4272, Avg. loss: 0.111060\n",
      "Total training time: 0.09 seconds.\n",
      "-- Epoch 25\n",
      "Norm: 9.40, NNZs: 4441, Bias: -0.085702, T: 4450, Avg. loss: 0.100856\n",
      "Total training time: 0.09 seconds.\n",
      "-- Epoch 26\n",
      "Norm: 9.52, NNZs: 4441, Bias: -0.052672, T: 4628, Avg. loss: 0.093484\n",
      "Total training time: 0.09 seconds.\n",
      "-- Epoch 27\n",
      "Norm: 9.66, NNZs: 4441, Bias: -0.093344, T: 4806, Avg. loss: 0.086354\n",
      "Total training time: 0.10 seconds.\n",
      "-- Epoch 28\n",
      "Norm: 9.78, NNZs: 4441, Bias: -0.123872, T: 4984, Avg. loss: 0.080543\n",
      "Total training time: 0.10 seconds.\n",
      "-- Epoch 29\n",
      "Norm: 9.88, NNZs: 4441, Bias: -0.065667, T: 5162, Avg. loss: 0.073289\n",
      "Total training time: 0.10 seconds.\n",
      "-- Epoch 30\n",
      "Norm: 9.98, NNZs: 4441, Bias: -0.086218, T: 5340, Avg. loss: 0.067405\n",
      "Total training time: 0.11 seconds.\n",
      "-- Epoch 31\n",
      "Norm: 10.08, NNZs: 4441, Bias: -0.045022, T: 5518, Avg. loss: 0.062242\n",
      "Total training time: 0.11 seconds.\n",
      "-- Epoch 32\n",
      "Norm: 10.16, NNZs: 4441, Bias: -0.054119, T: 5696, Avg. loss: 0.057090\n",
      "Total training time: 0.11 seconds.\n",
      "-- Epoch 33\n",
      "Norm: 10.24, NNZs: 4441, Bias: -0.085630, T: 5874, Avg. loss: 0.052877\n",
      "Total training time: 0.12 seconds.\n",
      "-- Epoch 34\n",
      "Norm: 10.31, NNZs: 4441, Bias: -0.088507, T: 6052, Avg. loss: 0.049123\n",
      "Total training time: 0.12 seconds.\n",
      "-- Epoch 35\n",
      "Norm: 10.38, NNZs: 4441, Bias: -0.090465, T: 6230, Avg. loss: 0.045751\n",
      "Total training time: 0.12 seconds.\n",
      "-- Epoch 36\n",
      "Norm: 10.44, NNZs: 4441, Bias: -0.078489, T: 6408, Avg. loss: 0.041661\n",
      "Total training time: 0.13 seconds.\n",
      "-- Epoch 37\n",
      "Norm: 10.51, NNZs: 4441, Bias: -0.081494, T: 6586, Avg. loss: 0.040215\n",
      "Total training time: 0.13 seconds.\n",
      "-- Epoch 38\n",
      "Norm: 10.56, NNZs: 4441, Bias: -0.077503, T: 6764, Avg. loss: 0.037065\n",
      "Total training time: 0.13 seconds.\n",
      "-- Epoch 39\n",
      "Norm: 10.62, NNZs: 4441, Bias: -0.081337, T: 6942, Avg. loss: 0.034066\n",
      "Total training time: 0.14 seconds.\n",
      "-- Epoch 40\n",
      "Norm: 10.67, NNZs: 4441, Bias: -0.093644, T: 7120, Avg. loss: 0.031557\n",
      "Total training time: 0.14 seconds.\n",
      "-- Epoch 41\n",
      "Norm: 10.72, NNZs: 4441, Bias: -0.090265, T: 7298, Avg. loss: 0.029416\n",
      "Total training time: 0.14 seconds.\n",
      "-- Epoch 42\n",
      "Norm: 10.76, NNZs: 4441, Bias: -0.062194, T: 7476, Avg. loss: 0.027297\n",
      "Total training time: 0.15 seconds.\n",
      "-- Epoch 43\n",
      "Norm: 10.80, NNZs: 4441, Bias: -0.056855, T: 7654, Avg. loss: 0.025691\n",
      "Total training time: 0.15 seconds.\n",
      "-- Epoch 44\n",
      "Norm: 10.84, NNZs: 4441, Bias: -0.059757, T: 7832, Avg. loss: 0.024212\n",
      "Total training time: 0.15 seconds.\n",
      "-- Epoch 45\n",
      "Norm: 10.87, NNZs: 4441, Bias: -0.048878, T: 8010, Avg. loss: 0.022881\n",
      "Total training time: 0.16 seconds.\n",
      "-- Epoch 46\n",
      "Norm: 10.90, NNZs: 4441, Bias: -0.085333, T: 8188, Avg. loss: 0.021595\n",
      "Total training time: 0.16 seconds.\n",
      "-- Epoch 47\n",
      "Norm: 10.93, NNZs: 4441, Bias: -0.040164, T: 8366, Avg. loss: 0.020536\n",
      "Total training time: 0.16 seconds.\n",
      "-- Epoch 48\n",
      "Norm: 10.97, NNZs: 4441, Bias: -0.059175, T: 8544, Avg. loss: 0.019209\n",
      "Total training time: 0.17 seconds.\n",
      "-- Epoch 49\n",
      "Norm: 11.00, NNZs: 4441, Bias: -0.050274, T: 8722, Avg. loss: 0.018181\n",
      "Total training time: 0.17 seconds.\n",
      "-- Epoch 50\n",
      "Norm: 11.02, NNZs: 4441, Bias: -0.049803, T: 8900, Avg. loss: 0.016800\n",
      "Total training time: 0.17 seconds.\n",
      "-- Epoch 51\n",
      "Norm: 11.05, NNZs: 4441, Bias: -0.113365, T: 9078, Avg. loss: 0.015281\n",
      "Total training time: 0.17 seconds.\n",
      "-- Epoch 52\n",
      "Norm: 11.08, NNZs: 4441, Bias: -0.067815, T: 9256, Avg. loss: 0.014488\n",
      "Total training time: 0.18 seconds.\n",
      "-- Epoch 53\n",
      "Norm: 11.09, NNZs: 4441, Bias: -0.064064, T: 9434, Avg. loss: 0.013429\n",
      "Total training time: 0.18 seconds.\n",
      "-- Epoch 54\n",
      "Norm: 11.11, NNZs: 4441, Bias: -0.050197, T: 9612, Avg. loss: 0.012700\n",
      "Total training time: 0.18 seconds.\n",
      "-- Epoch 55\n",
      "Norm: 11.13, NNZs: 4441, Bias: -0.081261, T: 9790, Avg. loss: 0.012153\n",
      "Total training time: 0.19 seconds.\n",
      "-- Epoch 56\n",
      "Norm: 11.16, NNZs: 4441, Bias: -0.049259, T: 9968, Avg. loss: 0.011807\n",
      "Total training time: 0.19 seconds.\n",
      "-- Epoch 57\n",
      "Norm: 11.19, NNZs: 4441, Bias: -0.052654, T: 10146, Avg. loss: 0.010690\n",
      "Total training time: 0.19 seconds.\n",
      "-- Epoch 58\n",
      "Norm: 11.20, NNZs: 4441, Bias: -0.082667, T: 10324, Avg. loss: 0.009992\n",
      "Total training time: 0.20 seconds.\n",
      "-- Epoch 59\n",
      "Norm: 11.23, NNZs: 4441, Bias: -0.061002, T: 10502, Avg. loss: 0.009504\n",
      "Total training time: 0.20 seconds.\n",
      "-- Epoch 60\n",
      "Norm: 11.24, NNZs: 4441, Bias: -0.093375, T: 10680, Avg. loss: 0.008633\n",
      "Total training time: 0.20 seconds.\n",
      "-- Epoch 61\n",
      "Norm: 11.26, NNZs: 4441, Bias: -0.063531, T: 10858, Avg. loss: 0.008277\n",
      "Total training time: 0.21 seconds.\n",
      "-- Epoch 62\n",
      "Norm: 11.28, NNZs: 4441, Bias: -0.052416, T: 11036, Avg. loss: 0.007510\n",
      "Total training time: 0.21 seconds.\n",
      "Convergence after 62 epochs took 0.21 seconds\n",
      "Train : PassiveAggressiveClassifier_GaussianRandomProjection in 8.821173429489136 seconds\n",
      "> train accurancy : 100.0% \n",
      "\n",
      "Train : LogisticRegression_TruncatedSVD in 7.459185838699341 seconds\n"
     ]
    },
    {
     "name": "stdout",
     "output_type": "stream",
     "text": [
      "> train accurancy : 100.0% \n",
      "\n",
      "Train : RandomForestClassifier_TruncatedSVD in 6.764029502868652 seconds\n",
      "> train accurancy : 100.0% \n",
      "\n",
      "[LibSVM]Train : SVC_TruncatedSVD in 7.214610815048218 seconds\n",
      "> train accurancy : 100.0% \n",
      "\n",
      "      Iter       Train Loss   Remaining Time \n",
      "         1           1.2425            0.04s\n",
      "         2           1.1263            0.03s\n",
      "         3           1.0256            0.02s\n",
      "         4           0.9398            0.01s\n",
      "         5           0.8619            0.00s\n",
      "Train : GradientBoostingClassifier_TruncatedSVD in 6.436407566070557 seconds\n",
      "> train accurancy : 96.06741573033707% \n",
      "\n",
      "-- Epoch 1\n",
      "Norm: 0.60, NNZs: 178, Bias: -0.540000, T: 178, Avg. loss: 0.968744\n",
      "Total training time: 0.00 seconds.\n",
      "-- Epoch 2\n",
      "Norm: 1.17, NNZs: 178, Bias: -0.846389, T: 356, Avg. loss: 0.851039\n",
      "Total training time: 0.00 seconds.\n",
      "-- Epoch 3\n",
      "Norm: 1.67, NNZs: 178, Bias: -0.740372, T: 534, Avg. loss: 0.787160\n",
      "Total training time: 0.00 seconds.\n",
      "-- Epoch 4\n",
      "Norm: 2.18, NNZs: 178, Bias: -0.625550, T: 712, Avg. loss: 0.736868\n",
      "Total training time: 0.00 seconds.\n",
      "-- Epoch 5\n",
      "Norm: 2.70, NNZs: 178, Bias: -0.634182, T: 890, Avg. loss: 0.688564\n",
      "Total training time: 0.00 seconds.\n",
      "-- Epoch 6\n",
      "Norm: 3.21, NNZs: 178, Bias: -0.532260, T: 1068, Avg. loss: 0.636542\n",
      "Total training time: 0.00 seconds.\n",
      "-- Epoch 7\n",
      "Norm: 3.73, NNZs: 178, Bias: -0.572278, T: 1246, Avg. loss: 0.588110\n",
      "Total training time: 0.00 seconds.\n",
      "-- Epoch 8\n",
      "Norm: 4.23, NNZs: 178, Bias: -0.407850, T: 1424, Avg. loss: 0.537087\n",
      "Total training time: 0.00 seconds.\n",
      "-- Epoch 9\n",
      "Norm: 4.75, NNZs: 178, Bias: -0.394585, T: 1602, Avg. loss: 0.489172\n",
      "Total training time: 0.00 seconds.\n",
      "-- Epoch 10\n",
      "Norm: 5.27, NNZs: 178, Bias: -0.422131, T: 1780, Avg. loss: 0.439199\n",
      "Total training time: 0.00 seconds.\n",
      "-- Epoch 11\n",
      "Norm: 5.74, NNZs: 178, Bias: -0.225344, T: 1958, Avg. loss: 0.382179\n",
      "Total training time: 0.00 seconds.\n",
      "-- Epoch 12\n",
      "Norm: 6.21, NNZs: 178, Bias: -0.212217, T: 2136, Avg. loss: 0.344805\n",
      "Total training time: 0.01 seconds.\n",
      "-- Epoch 13\n",
      "Norm: 6.62, NNZs: 178, Bias: -0.234532, T: 2314, Avg. loss: 0.303008\n",
      "Total training time: 0.01 seconds.\n",
      "-- Epoch 14\n",
      "Norm: 6.99, NNZs: 178, Bias: -0.224741, T: 2492, Avg. loss: 0.267766\n",
      "Total training time: 0.01 seconds.\n",
      "-- Epoch 15\n",
      "Norm: 7.33, NNZs: 178, Bias: -0.250511, T: 2670, Avg. loss: 0.242249\n",
      "Total training time: 0.01 seconds.\n",
      "-- Epoch 16\n",
      "Norm: 7.64, NNZs: 178, Bias: -0.124776, T: 2848, Avg. loss: 0.215730\n",
      "Total training time: 0.01 seconds.\n",
      "-- Epoch 17\n",
      "Norm: 7.95, NNZs: 178, Bias: -0.295058, T: 3026, Avg. loss: 0.189331\n",
      "Total training time: 0.01 seconds.\n",
      "-- Epoch 18\n",
      "Norm: 8.19, NNZs: 178, Bias: -0.188658, T: 3204, Avg. loss: 0.173131\n",
      "Total training time: 0.01 seconds.\n",
      "-- Epoch 19\n",
      "Norm: 8.42, NNZs: 178, Bias: -0.069414, T: 3382, Avg. loss: 0.154304\n",
      "Total training time: 0.01 seconds.\n",
      "-- Epoch 20\n",
      "Norm: 8.63, NNZs: 178, Bias: -0.225787, T: 3560, Avg. loss: 0.141875\n",
      "Total training time: 0.01 seconds.\n",
      "-- Epoch 21\n",
      "Norm: 8.83, NNZs: 178, Bias: -0.101103, T: 3738, Avg. loss: 0.129991\n",
      "Total training time: 0.01 seconds.\n",
      "-- Epoch 22\n",
      "Norm: 9.02, NNZs: 178, Bias: -0.165470, T: 3916, Avg. loss: 0.117787\n",
      "Total training time: 0.01 seconds.\n",
      "-- Epoch 23\n",
      "Norm: 9.18, NNZs: 178, Bias: -0.191027, T: 4094, Avg. loss: 0.108384\n",
      "Total training time: 0.01 seconds.\n",
      "-- Epoch 24\n",
      "Norm: 9.33, NNZs: 178, Bias: -0.077677, T: 4272, Avg. loss: 0.098551\n",
      "Total training time: 0.01 seconds.\n",
      "-- Epoch 25\n",
      "Norm: 9.46, NNZs: 178, Bias: -0.038029, T: 4450, Avg. loss: 0.090177\n",
      "Total training time: 0.01 seconds.\n",
      "-- Epoch 26\n",
      "Norm: 9.59, NNZs: 178, Bias: -0.133283, T: 4628, Avg. loss: 0.082523\n",
      "Total training time: 0.01 seconds.\n",
      "-- Epoch 27\n",
      "Norm: 9.72, NNZs: 178, Bias: -0.134451, T: 4806, Avg. loss: 0.075088\n",
      "Total training time: 0.01 seconds.\n",
      "-- Epoch 28\n",
      "Norm: 9.82, NNZs: 178, Bias: -0.097396, T: 4984, Avg. loss: 0.068561\n",
      "Total training time: 0.01 seconds.\n",
      "-- Epoch 29\n",
      "Norm: 9.92, NNZs: 178, Bias: -0.146125, T: 5162, Avg. loss: 0.061447\n",
      "Total training time: 0.01 seconds.\n",
      "-- Epoch 30\n",
      "Norm: 10.03, NNZs: 178, Bias: -0.100595, T: 5340, Avg. loss: 0.057201\n",
      "Total training time: 0.01 seconds.\n",
      "-- Epoch 31\n",
      "Norm: 10.12, NNZs: 178, Bias: 0.031548, T: 5518, Avg. loss: 0.049329\n",
      "Total training time: 0.01 seconds.\n",
      "-- Epoch 32\n",
      "Norm: 10.22, NNZs: 178, Bias: -0.149149, T: 5696, Avg. loss: 0.045939\n",
      "Total training time: 0.01 seconds.\n",
      "-- Epoch 33\n",
      "Norm: 10.31, NNZs: 178, Bias: -0.144746, T: 5874, Avg. loss: 0.041408\n",
      "Total training time: 0.01 seconds.\n",
      "-- Epoch 34\n",
      "Norm: 10.39, NNZs: 178, Bias: -0.098027, T: 6052, Avg. loss: 0.037787\n",
      "Total training time: 0.01 seconds.\n",
      "-- Epoch 35\n",
      "Norm: 10.45, NNZs: 178, Bias: -0.139412, T: 6230, Avg. loss: 0.034443\n",
      "Total training time: 0.01 seconds.\n",
      "-- Epoch 36\n",
      "Norm: 10.51, NNZs: 178, Bias: -0.059613, T: 6408, Avg. loss: 0.031967\n",
      "Total training time: 0.01 seconds.\n",
      "-- Epoch 37\n",
      "Norm: 10.55, NNZs: 178, Bias: -0.087544, T: 6586, Avg. loss: 0.029259\n",
      "Total training time: 0.01 seconds.\n",
      "-- Epoch 38\n",
      "Norm: 10.60, NNZs: 178, Bias: -0.059717, T: 6764, Avg. loss: 0.027516\n",
      "Total training time: 0.02 seconds.\n",
      "-- Epoch 39\n",
      "Norm: 10.65, NNZs: 178, Bias: -0.065944, T: 6942, Avg. loss: 0.026232\n",
      "Total training time: 0.02 seconds.\n",
      "-- Epoch 40\n",
      "Norm: 10.69, NNZs: 178, Bias: -0.073819, T: 7120, Avg. loss: 0.023854\n",
      "Total training time: 0.02 seconds.\n",
      "-- Epoch 41\n",
      "Norm: 10.73, NNZs: 178, Bias: -0.049308, T: 7298, Avg. loss: 0.022190\n",
      "Total training time: 0.02 seconds.\n",
      "-- Epoch 42\n",
      "Norm: 10.76, NNZs: 178, Bias: -0.042735, T: 7476, Avg. loss: 0.020379\n",
      "Total training time: 0.02 seconds.\n",
      "-- Epoch 43\n",
      "Norm: 10.79, NNZs: 178, Bias: -0.038666, T: 7654, Avg. loss: 0.019206\n",
      "Total training time: 0.02 seconds.\n",
      "-- Epoch 44\n",
      "Norm: 10.83, NNZs: 178, Bias: -0.041348, T: 7832, Avg. loss: 0.018156\n",
      "Total training time: 0.02 seconds.\n",
      "-- Epoch 45\n",
      "Norm: 10.87, NNZs: 178, Bias: -0.048617, T: 8010, Avg. loss: 0.016414\n",
      "Total training time: 0.02 seconds.\n",
      "-- Epoch 46\n",
      "Norm: 10.90, NNZs: 178, Bias: -0.045426, T: 8188, Avg. loss: 0.015480\n",
      "Total training time: 0.02 seconds.\n",
      "-- Epoch 47\n",
      "Norm: 10.93, NNZs: 178, Bias: -0.017162, T: 8366, Avg. loss: 0.014204\n",
      "Total training time: 0.02 seconds.\n",
      "-- Epoch 48\n",
      "Norm: 10.97, NNZs: 178, Bias: -0.018053, T: 8544, Avg. loss: 0.013222\n",
      "Total training time: 0.02 seconds.\n",
      "-- Epoch 49\n",
      "Norm: 11.00, NNZs: 178, Bias: -0.028204, T: 8722, Avg. loss: 0.011996\n",
      "Total training time: 0.02 seconds.\n",
      "-- Epoch 50\n",
      "Norm: 11.04, NNZs: 178, Bias: -0.049987, T: 8900, Avg. loss: 0.010767\n",
      "Total training time: 0.02 seconds.\n",
      "-- Epoch 51\n",
      "Norm: 11.07, NNZs: 178, Bias: -0.065920, T: 9078, Avg. loss: 0.009591\n",
      "Total training time: 0.02 seconds.\n",
      "-- Epoch 52\n",
      "Norm: 11.10, NNZs: 178, Bias: -0.061924, T: 9256, Avg. loss: 0.008926\n",
      "Total training time: 0.02 seconds.\n",
      "-- Epoch 53\n",
      "Norm: 11.12, NNZs: 178, Bias: -0.046029, T: 9434, Avg. loss: 0.007413\n",
      "Total training time: 0.02 seconds.\n",
      "-- Epoch 54\n",
      "Norm: 11.13, NNZs: 178, Bias: -0.078775, T: 9612, Avg. loss: 0.006457\n",
      "Total training time: 0.02 seconds.\n",
      "-- Epoch 55\n",
      "Norm: 11.14, NNZs: 178, Bias: -0.037834, T: 9790, Avg. loss: 0.006877\n",
      "Total training time: 0.02 seconds.\n",
      "-- Epoch 56\n",
      "Norm: 11.15, NNZs: 178, Bias: -0.054929, T: 9968, Avg. loss: 0.005962\n",
      "Total training time: 0.02 seconds.\n",
      "-- Epoch 57\n",
      "Norm: 11.17, NNZs: 178, Bias: -0.046646, T: 10146, Avg. loss: 0.005866\n",
      "Total training time: 0.02 seconds.\n",
      "-- Epoch 58\n",
      "Norm: 11.18, NNZs: 178, Bias: -0.046222, T: 10324, Avg. loss: 0.005636\n",
      "Total training time: 0.02 seconds.\n",
      "Convergence after 58 epochs took 0.02 seconds\n",
      "Train : PassiveAggressiveClassifier_TruncatedSVD in 6.862023591995239 seconds\n",
      "> train accurancy : 100.0% \n",
      "\n",
      "Train : LogisticRegression_FunctionTransformer in 6.418076038360596 seconds\n",
      "> train accurancy : 100.0% \n",
      "\n",
      "Train : RandomForestClassifier_FunctionTransformer in 7.199693918228149 seconds\n",
      "> train accurancy : 100.0% \n",
      "\n",
      "Train : MultinomialNB_FunctionTransformer in 5.806039333343506 seconds\n",
      "> train accurancy : 98.87640449438202% \n",
      "\n",
      "[LibSVM]Train : SVC_FunctionTransformer in 6.399143934249878 seconds\n",
      "> train accurancy : 100.0% \n",
      "\n",
      "      Iter       Train Loss   Remaining Time \n",
      "         1           1.2348            0.08s\n",
      "         2           1.1150            0.06s\n",
      "         3           1.0120            0.04s\n",
      "         4           0.9226            0.02s\n",
      "         5           0.8445            0.00s\n",
      "Train : GradientBoostingClassifier_FunctionTransformer in 6.149298667907715 seconds\n"
     ]
    },
    {
     "name": "stdout",
     "output_type": "stream",
     "text": [
      "> train accurancy : 97.75280898876404% \n",
      "\n",
      "-- Epoch 1\n",
      "Norm: 0.60, NNZs: 9924, Bias: -0.005400, T: 178, Avg. loss: 0.980925\n",
      "Total training time: 0.00 seconds.\n",
      "-- Epoch 2\n",
      "Norm: 1.20, NNZs: 9924, Bias: -0.010800, T: 356, Avg. loss: 0.912474\n",
      "Total training time: 0.00 seconds.\n",
      "-- Epoch 3\n",
      "Norm: 1.81, NNZs: 9924, Bias: -0.016200, T: 534, Avg. loss: 0.844023\n",
      "Total training time: 0.00 seconds.\n",
      "-- Epoch 4\n",
      "Norm: 2.41, NNZs: 9924, Bias: -0.021600, T: 712, Avg. loss: 0.775573\n",
      "Total training time: 0.00 seconds.\n",
      "-- Epoch 5\n",
      "Norm: 3.01, NNZs: 9924, Bias: -0.027000, T: 890, Avg. loss: 0.707122\n",
      "Total training time: 0.00 seconds.\n",
      "-- Epoch 6\n",
      "Norm: 3.61, NNZs: 9924, Bias: -0.032400, T: 1068, Avg. loss: 0.638671\n",
      "Total training time: 0.00 seconds.\n",
      "-- Epoch 7\n",
      "Norm: 4.21, NNZs: 9924, Bias: -0.037696, T: 1246, Avg. loss: 0.570481\n",
      "Total training time: 0.00 seconds.\n",
      "-- Epoch 8\n",
      "Norm: 4.79, NNZs: 9924, Bias: -0.041896, T: 1424, Avg. loss: 0.504884\n",
      "Total training time: 0.00 seconds.\n",
      "-- Epoch 9\n",
      "Norm: 5.34, NNZs: 9924, Bias: -0.044851, T: 1602, Avg. loss: 0.443438\n",
      "Total training time: 0.00 seconds.\n",
      "-- Epoch 10\n",
      "Norm: 5.84, NNZs: 9924, Bias: -0.046832, T: 1780, Avg. loss: 0.388441\n",
      "Total training time: 0.00 seconds.\n",
      "-- Epoch 11\n",
      "Norm: 6.28, NNZs: 9924, Bias: -0.047250, T: 1958, Avg. loss: 0.341191\n",
      "Total training time: 0.00 seconds.\n",
      "-- Epoch 12\n",
      "Norm: 6.67, NNZs: 9924, Bias: -0.047082, T: 2136, Avg. loss: 0.301200\n",
      "Total training time: 0.01 seconds.\n",
      "-- Epoch 13\n",
      "Norm: 7.01, NNZs: 9924, Bias: -0.045846, T: 2314, Avg. loss: 0.268976\n",
      "Total training time: 0.01 seconds.\n",
      "-- Epoch 14\n",
      "Norm: 7.32, NNZs: 9924, Bias: -0.043271, T: 2492, Avg. loss: 0.241433\n",
      "Total training time: 0.01 seconds.\n",
      "-- Epoch 15\n",
      "Norm: 7.61, NNZs: 9924, Bias: -0.040804, T: 2670, Avg. loss: 0.216579\n",
      "Total training time: 0.01 seconds.\n",
      "-- Epoch 16\n",
      "Norm: 7.86, NNZs: 9924, Bias: -0.037471, T: 2848, Avg. loss: 0.194723\n",
      "Total training time: 0.01 seconds.\n",
      "-- Epoch 17\n",
      "Norm: 8.08, NNZs: 9924, Bias: -0.036443, T: 3026, Avg. loss: 0.176828\n",
      "Total training time: 0.01 seconds.\n",
      "-- Epoch 18\n",
      "Norm: 8.29, NNZs: 9924, Bias: -0.035047, T: 3204, Avg. loss: 0.161197\n",
      "Total training time: 0.01 seconds.\n",
      "-- Epoch 19\n",
      "Norm: 8.48, NNZs: 9924, Bias: -0.033378, T: 3382, Avg. loss: 0.146663\n",
      "Total training time: 0.01 seconds.\n",
      "-- Epoch 20\n",
      "Norm: 8.65, NNZs: 9924, Bias: -0.031931, T: 3560, Avg. loss: 0.133248\n",
      "Total training time: 0.01 seconds.\n",
      "-- Epoch 21\n",
      "Norm: 8.81, NNZs: 9924, Bias: -0.031662, T: 3738, Avg. loss: 0.121806\n",
      "Total training time: 0.01 seconds.\n",
      "-- Epoch 22\n",
      "Norm: 8.95, NNZs: 9924, Bias: -0.030471, T: 3916, Avg. loss: 0.111222\n",
      "Total training time: 0.01 seconds.\n",
      "-- Epoch 23\n",
      "Norm: 9.08, NNZs: 9924, Bias: -0.029232, T: 4094, Avg. loss: 0.102021\n",
      "Total training time: 0.01 seconds.\n",
      "-- Epoch 24\n",
      "Norm: 9.21, NNZs: 9924, Bias: -0.029031, T: 4272, Avg. loss: 0.093847\n",
      "Total training time: 0.01 seconds.\n",
      "-- Epoch 25\n",
      "Norm: 9.33, NNZs: 9924, Bias: -0.027989, T: 4450, Avg. loss: 0.085418\n",
      "Total training time: 0.01 seconds.\n",
      "-- Epoch 26\n",
      "Norm: 9.44, NNZs: 9924, Bias: -0.026847, T: 4628, Avg. loss: 0.077321\n",
      "Total training time: 0.01 seconds.\n",
      "-- Epoch 27\n",
      "Norm: 9.55, NNZs: 9924, Bias: -0.025790, T: 4806, Avg. loss: 0.070368\n",
      "Total training time: 0.01 seconds.\n",
      "-- Epoch 28\n",
      "Norm: 9.65, NNZs: 9924, Bias: -0.025211, T: 4984, Avg. loss: 0.064168\n",
      "Total training time: 0.01 seconds.\n",
      "-- Epoch 29\n",
      "Norm: 9.73, NNZs: 9924, Bias: -0.023344, T: 5162, Avg. loss: 0.057965\n",
      "Total training time: 0.01 seconds.\n",
      "-- Epoch 30\n",
      "Norm: 9.83, NNZs: 9924, Bias: -0.023740, T: 5340, Avg. loss: 0.053393\n",
      "Total training time: 0.01 seconds.\n",
      "-- Epoch 31\n",
      "Norm: 9.90, NNZs: 9924, Bias: -0.022630, T: 5518, Avg. loss: 0.047696\n",
      "Total training time: 0.01 seconds.\n",
      "-- Epoch 32\n",
      "Norm: 9.98, NNZs: 9924, Bias: -0.021777, T: 5696, Avg. loss: 0.043173\n",
      "Total training time: 0.02 seconds.\n",
      "-- Epoch 33\n",
      "Norm: 10.05, NNZs: 9924, Bias: -0.021777, T: 5874, Avg. loss: 0.038898\n",
      "Total training time: 0.02 seconds.\n",
      "-- Epoch 34\n",
      "Norm: 10.10, NNZs: 9924, Bias: -0.021236, T: 6052, Avg. loss: 0.035264\n",
      "Total training time: 0.02 seconds.\n",
      "-- Epoch 35\n",
      "Norm: 10.15, NNZs: 9924, Bias: -0.020574, T: 6230, Avg. loss: 0.032364\n",
      "Total training time: 0.02 seconds.\n",
      "-- Epoch 36\n",
      "Norm: 10.20, NNZs: 9924, Bias: -0.020745, T: 6408, Avg. loss: 0.030097\n",
      "Total training time: 0.02 seconds.\n",
      "-- Epoch 37\n",
      "Norm: 10.23, NNZs: 9924, Bias: -0.020159, T: 6586, Avg. loss: 0.027909\n",
      "Total training time: 0.02 seconds.\n",
      "-- Epoch 38\n",
      "Norm: 10.27, NNZs: 9924, Bias: -0.019255, T: 6764, Avg. loss: 0.025899\n",
      "Total training time: 0.02 seconds.\n",
      "-- Epoch 39\n",
      "Norm: 10.31, NNZs: 9924, Bias: -0.019229, T: 6942, Avg. loss: 0.024775\n",
      "Total training time: 0.02 seconds.\n",
      "-- Epoch 40\n",
      "Norm: 10.34, NNZs: 9924, Bias: -0.018697, T: 7120, Avg. loss: 0.023008\n",
      "Total training time: 0.02 seconds.\n",
      "-- Epoch 41\n",
      "Norm: 10.38, NNZs: 9924, Bias: -0.017897, T: 7298, Avg. loss: 0.021281\n",
      "Total training time: 0.02 seconds.\n",
      "-- Epoch 42\n",
      "Norm: 10.41, NNZs: 9924, Bias: -0.017710, T: 7476, Avg. loss: 0.019820\n",
      "Total training time: 0.02 seconds.\n",
      "-- Epoch 43\n",
      "Norm: 10.44, NNZs: 9924, Bias: -0.017603, T: 7654, Avg. loss: 0.018475\n",
      "Total training time: 0.02 seconds.\n",
      "-- Epoch 44\n",
      "Norm: 10.47, NNZs: 9924, Bias: -0.016683, T: 7832, Avg. loss: 0.016929\n",
      "Total training time: 0.02 seconds.\n",
      "-- Epoch 45\n",
      "Norm: 10.50, NNZs: 9924, Bias: -0.016818, T: 8010, Avg. loss: 0.016272\n",
      "Total training time: 0.02 seconds.\n",
      "-- Epoch 46\n",
      "Norm: 10.53, NNZs: 9924, Bias: -0.016563, T: 8188, Avg. loss: 0.014978\n",
      "Total training time: 0.02 seconds.\n",
      "-- Epoch 47\n",
      "Norm: 10.56, NNZs: 9924, Bias: -0.016310, T: 8366, Avg. loss: 0.013830\n",
      "Total training time: 0.02 seconds.\n",
      "-- Epoch 48\n",
      "Norm: 10.59, NNZs: 9924, Bias: -0.015686, T: 8544, Avg. loss: 0.012581\n",
      "Total training time: 0.02 seconds.\n",
      "-- Epoch 49\n",
      "Norm: 10.63, NNZs: 9924, Bias: -0.015588, T: 8722, Avg. loss: 0.011705\n",
      "Total training time: 0.02 seconds.\n",
      "-- Epoch 50\n",
      "Norm: 10.65, NNZs: 9924, Bias: -0.014875, T: 8900, Avg. loss: 0.010274\n",
      "Total training time: 0.02 seconds.\n",
      "-- Epoch 51\n",
      "Norm: 10.69, NNZs: 9924, Bias: -0.014938, T: 9078, Avg. loss: 0.009487\n",
      "Total training time: 0.02 seconds.\n",
      "-- Epoch 52\n",
      "Norm: 10.71, NNZs: 9924, Bias: -0.014590, T: 9256, Avg. loss: 0.008199\n",
      "Total training time: 0.02 seconds.\n",
      "-- Epoch 53\n",
      "Norm: 10.73, NNZs: 9924, Bias: -0.014640, T: 9434, Avg. loss: 0.007144\n",
      "Total training time: 0.02 seconds.\n",
      "-- Epoch 54\n",
      "Norm: 10.74, NNZs: 9924, Bias: -0.014884, T: 9612, Avg. loss: 0.006556\n",
      "Total training time: 0.03 seconds.\n",
      "-- Epoch 55\n",
      "Norm: 10.75, NNZs: 9924, Bias: -0.014725, T: 9790, Avg. loss: 0.006136\n",
      "Total training time: 0.03 seconds.\n",
      "-- Epoch 56\n",
      "Norm: 10.76, NNZs: 9924, Bias: -0.014946, T: 9968, Avg. loss: 0.005878\n",
      "Total training time: 0.03 seconds.\n",
      "-- Epoch 57\n",
      "Norm: 10.77, NNZs: 9924, Bias: -0.015010, T: 10146, Avg. loss: 0.005511\n",
      "Total training time: 0.03 seconds.\n",
      "-- Epoch 58\n",
      "Norm: 10.78, NNZs: 9924, Bias: -0.015124, T: 10324, Avg. loss: 0.005242\n",
      "Total training time: 0.03 seconds.\n",
      "Convergence after 58 epochs took 0.03 seconds\n",
      "Train : PassiveAggressiveClassifier_FunctionTransformer in 7.2566916942596436 seconds\n",
      "> train accurancy : 100.0% \n",
      "\n"
     ]
    }
   ],
   "source": [
    "for decomposor_c in decomposors:\n",
    "  for model_c in models:\n",
    "\n",
    "    # Naive bayes không decompose vì đặc trưng độc lập \n",
    "    if model_c == 'mnb' and decomposor_c == 'grp': continue \n",
    "    if model_c == 'mnb' and decomposor_c == 'tsvd': continue \n",
    "    # Gán decomposor và model vào pipeline\n",
    "    decomposor.steps[0] = (decomposor_c, decomposors[decomposor_c])\n",
    "    pipeline.steps[2] = ('decomposor', decomposor)\n",
    "    model.steps[0] = (model_c, models[model_c])\n",
    "    pipeline.steps[3] = ('model', model)\n",
    "\n",
    "    # Train model\n",
    "    start_time = time.time()  \n",
    "    pipeline.fit(train_X_df, train_y_sr);\n",
    "    print(\"Train : {model}_{decomposor} in {time} seconds\".format(\n",
    "        model = type(models[model_c]).__name__,\n",
    "        decomposor = type(decomposors[decomposor_c]).__name__,\n",
    "        time = (time.time() - start_time)))\n",
    "    \n",
    "    # Độ chính xác của mỗi model \n",
    "    score = pipeline.score(train_X_df, train_y_sr)\n",
    "    print(\"> train accurancy : {accurancy}% \\n\".format(\n",
    "        accurancy = score*100))\n",
    "    \n",
    "    # lưu mô hình \n",
    "    filename = 'model/' + model_c + '_' + decomposor_c + '.model'\n",
    "    pickle.dump(pipeline, open(filename, 'wb'))"
   ]
  },
  {
   "cell_type": "markdown",
   "metadata": {
    "id": "7LYUOdd-UHjh"
   },
   "source": [
    "# Đánh giá mô hình"
   ]
  },
  {
   "cell_type": "code",
   "execution_count": 25,
   "metadata": {
    "colab": {
     "base_uri": "https://localhost:8080/"
    },
    "id": "VRzGnxOJo___",
    "outputId": "3c3a5822-71c3-46d7-85a8-7f40ea16c543"
   },
   "outputs": [
    {
     "name": "stdout",
     "output_type": "stream",
     "text": [
      "LogisticRegression_GaussianRandomProjection \n",
      "> Test accurancy : 86.66666666666667% \n",
      "\n",
      "RandomForestClassifier_GaussianRandomProjection \n",
      "> Test accurancy : 71.11111111111111% \n",
      "\n",
      "SVC_GaussianRandomProjection \n",
      "> Test accurancy : 88.88888888888889% \n",
      "\n",
      "GradientBoostingClassifier_GaussianRandomProjection \n",
      "> Test accurancy : 55.55555555555556% \n",
      "\n",
      "PassiveAggressiveClassifier_GaussianRandomProjection \n",
      "> Test accurancy : 82.22222222222221% \n",
      "\n",
      "LogisticRegression_TruncatedSVD \n",
      "> Test accurancy : 91.11111111111111% \n",
      "\n",
      "RandomForestClassifier_TruncatedSVD \n",
      "> Test accurancy : 71.11111111111111% \n",
      "\n",
      "SVC_TruncatedSVD \n",
      "> Test accurancy : 93.33333333333333% \n",
      "\n",
      "GradientBoostingClassifier_TruncatedSVD \n",
      "> Test accurancy : 80.0% \n",
      "\n",
      "PassiveAggressiveClassifier_TruncatedSVD \n",
      "> Test accurancy : 91.11111111111111% \n",
      "\n",
      "LogisticRegression_FunctionTransformer \n",
      "> Test accurancy : 91.11111111111111% \n",
      "\n",
      "RandomForestClassifier_FunctionTransformer \n",
      "> Test accurancy : 88.88888888888889% \n",
      "\n",
      "MultinomialNB_FunctionTransformer \n",
      "> Test accurancy : 84.44444444444444% \n",
      "\n",
      "SVC_FunctionTransformer \n",
      "> Test accurancy : 93.33333333333333% \n",
      "\n",
      "GradientBoostingClassifier_FunctionTransformer \n",
      "> Test accurancy : 91.11111111111111% \n",
      "\n",
      "PassiveAggressiveClassifier_FunctionTransformer \n",
      "> Test accurancy : 91.11111111111111% \n",
      "\n"
     ]
    }
   ],
   "source": [
    "res_dict = {}\n",
    "for decomposor_c in decomposors:\n",
    "  res_dict[decomposor_c] = {}\n",
    "  for model_c in models:\n",
    "\n",
    "    # Naive bayes không decompose vì đặc trưng độc lập\n",
    "    if model_c == 'mnb' and decomposor_c == 'grp': continue \n",
    "    if model_c == 'mnb' and decomposor_c == 'tsvd': continue \n",
    "    filename = 'model/' + model_c + '_' + decomposor_c + '.model'\n",
    "    pipeline = pickle.load(open(filename, 'rb')) # Load mô hình\n",
    "\n",
    "    # Test model \n",
    "    pred_y_sr = pipeline.predict(test_X_df) # Dự đoán nhãn trong tập test\n",
    "    # Evaluate\n",
    "    acc = accuracy_score(test_y_sr,pred_y_sr)\n",
    "    pre = precision_score(test_y_sr,pred_y_sr)\n",
    "    rec = recall_score(test_y_sr,pred_y_sr)\n",
    "    f1 = f1_score(test_y_sr,pred_y_sr)\n",
    "    cm = confusion_matrix(test_y_sr, pred_y_sr)\n",
    "    \n",
    "    res = [acc, pre, rec, f1, cm]\n",
    "    res_dict[decomposor_c][model_c] = res\n",
    "    # Print accurrency\n",
    "    print(\"{model}_{decomposor} \".format(\n",
    "      model = type(models[model_c]).__name__,\n",
    "      decomposor = type(decomposors[decomposor_c]).__name__))\n",
    "    print(\"> Test accurancy : {accurancy}% \\n\".format(\n",
    "        accurancy = acc*100))"
   ]
  },
  {
   "cell_type": "markdown",
   "metadata": {
    "id": "RvAcDYQTYTyo"
   },
   "source": [
    "# Trực quan hoá"
   ]
  },
  {
   "cell_type": "markdown",
   "metadata": {
    "id": "HNaqYzdtYXsm"
   },
   "source": [
    "Heatmap các chỉ số đánh gia mô hình"
   ]
  },
  {
   "cell_type": "code",
   "execution_count": 26,
   "metadata": {
    "id": "JgYAX3Qj89F3"
   },
   "outputs": [],
   "source": [
    "# Tạo ma trận heatmap\n",
    "mxt_dict = {}\n",
    "mxt_dict['acc'] = []\n",
    "mxt_dict['pre'] = []\n",
    "mxt_dict['rec'] = []\n",
    "mxt_dict['f1'] = []\n",
    "mxt_dict['cm'] = []\n",
    "for decomposor_c in decomposors:\n",
    "  acc = []\n",
    "  pre = []\n",
    "  rec = []\n",
    "  f1 = []\n",
    "  cm = []\n",
    "  for model_c in models:\n",
    "    if model_c == 'mnb' and decomposor_c != '': \n",
    "      acc.append(np.nan)\n",
    "      pre.append(np.nan)\n",
    "      rec.append(np.nan)\n",
    "      f1.append(np.nan)\n",
    "      cm.append(np.nan)\n",
    "      continue \n",
    "    acc.append(res_dict[decomposor_c][model_c][0])\n",
    "    pre.append(res_dict[decomposor_c][model_c][1])\n",
    "    rec.append(res_dict[decomposor_c][model_c][2])\n",
    "    f1.append(res_dict[decomposor_c][model_c][3])\n",
    "    cm.append(res_dict[decomposor_c][model_c][4])\n",
    "  mxt_dict['acc'].append(acc)\n",
    "  mxt_dict['pre'].append(pre)\n",
    "  mxt_dict['rec'].append(rec)\n",
    "  mxt_dict['f1'].append(f1)\n",
    "  mxt_dict['cm'].append(cm)\n",
    "  pass\n",
    "# Nhãn ma trận\n",
    "model_lb = ['LogisticRegression',\n",
    "                 'RandomForestClassifier',\n",
    "                 'MultinomialNB',\n",
    "                 'SVC',\n",
    "                 'GradientBoostingClassifier',\n",
    "                 'PassiveAggressiveClassifier'] \n",
    "decomposor_lb = ['GaussianRandomProjection',\n",
    "                 'TruncatedSVD',\n",
    "                 'None'] "
   ]
  },
  {
   "cell_type": "markdown",
   "metadata": {
    "id": "4FtqFGWiUQnK"
   },
   "source": [
    "## **Accuracy**"
   ]
  },
  {
   "cell_type": "markdown",
   "metadata": {
    "id": "_hCTTMbLj25j"
   },
   "source": [
    "**Accuracy cho thấy khả năng mô hình gán đúng các nhãn**"
   ]
  },
  {
   "cell_type": "code",
   "execution_count": 27,
   "metadata": {
    "colab": {
     "base_uri": "https://localhost:8080/",
     "height": 447
    },
    "id": "RmwSJLw67b7P",
    "outputId": "c315c83f-0fc4-45ef-b4a3-cfb4f1846173"
   },
   "outputs": [
    {
     "data": {
      "image/png": "[encoded data removed]",
      "text/plain": [
       "<Figure size 1080x360 with 2 Axes>"
      ]
     },
     "metadata": {
      "needs_background": "light"
     },
     "output_type": "display_data"
    }
   ],
   "source": [
    "plt.subplots(figsize=(15, 5),)\n",
    "sns.heatmap(mxt_dict['acc'],xticklabels=model_lb, yticklabels=decomposor_lb, cmap=\"crest\", annot=True);"
   ]
  },
  {
   "cell_type": "markdown",
   "metadata": {
    "id": "mrfeDjqCmyha"
   },
   "source": [
    "*   Mô hình SVC cho độ chính xác rất cao và có thể dùng tốt với các phương pháp giảm chiều.<br>\n",
    "*   Tiếp theo là các mô hình PassiveAggressiveClassifier, LogisticRegression.<br>\n",
    "*   RandomForestClassifier và GradientBoostingClassifier bị ảnh hưởng nhiều với phương pháp giảm chiều<br>\n",
    "*   Multinomial Naive Bayes cho kết quả kém nhất và không dùng phương pháp giảm chiều vỉ các đặc trưng yêu cầu là biến cố độc lập"
   ]
  },
  {
   "cell_type": "markdown",
   "metadata": {
    "id": "8UQ_83PEn-Wl"
   },
   "source": [
    "## **Precision**"
   ]
  },
  {
   "cell_type": "markdown",
   "metadata": {
    "id": "wgy6OIQTjGIL"
   },
   "source": [
    "**Precicison cao cho thấy mô hình ít nhận nhầm tin thật thành tin giả**"
   ]
  },
  {
   "cell_type": "code",
   "execution_count": 28,
   "metadata": {
    "colab": {
     "base_uri": "https://localhost:8080/",
     "height": 452
    },
    "id": "iTBRJPFgomLH",
    "outputId": "102d4bc5-f3c8-4e04-e85f-d76c980713e7"
   },
   "outputs": [
    {
     "data": {
      "image/png": "[encoded data removed]",
      "text/plain": [
       "<Figure size 1080x360 with 2 Axes>"
      ]
     },
     "metadata": {
      "needs_background": "light"
     },
     "output_type": "display_data"
    }
   ],
   "source": [
    "plt.subplots(figsize=(15, 5),)\n",
    "sns.heatmap(mxt_dict['pre'],xticklabels=model_lb, yticklabels=decomposor_lb, cmap=\"crest\", annot=True);"
   ]
  },
  {
   "cell_type": "markdown",
   "metadata": {
    "id": "VqgUQOzCoPxD"
   },
   "source": [
    "*  Các mô hình cho kết quả khá tốt ít nhận nhầm tin thật thành tin giả <br>\n",
    "*  RandomForestClassifier và GradientBoostingClassifier bị ảnh hưởng nhiều với phương pháp giảm chiều, đặc biệt GradientBoostingClassifier dùng GaussianRandomProject cho kết quả rất xấu"
   ]
  },
  {
   "cell_type": "markdown",
   "metadata": {
    "id": "Ekbhubo9i9f6"
   },
   "source": [
    "## **Recall**"
   ]
  },
  {
   "cell_type": "markdown",
   "metadata": {
    "id": "A8k7lo0gjv7U"
   },
   "source": [
    "**Recall cao cho thấy mô hình ít bỏ sót tin giả**"
   ]
  },
  {
   "cell_type": "code",
   "execution_count": 29,
   "metadata": {
    "colab": {
     "base_uri": "https://localhost:8080/",
     "height": 452
    },
    "id": "6XG64NrnomTH",
    "outputId": "5946f367-c794-4e0f-e23d-d5451db90dd9"
   },
   "outputs": [
    {
     "data": {
      "image/png": "[encoded data removed]",
      "text/plain": [
       "<Figure size 1080x360 with 2 Axes>"
      ]
     },
     "metadata": {
      "needs_background": "light"
     },
     "output_type": "display_data"
    }
   ],
   "source": [
    "plt.subplots(figsize=(15, 5),)\n",
    "sns.heatmap(mxt_dict['rec'],xticklabels=model_lb, yticklabels=decomposor_lb, cmap=\"crest\", annot=True);"
   ]
  },
  {
   "cell_type": "markdown",
   "metadata": {
    "id": "56tDYWD-pAkg"
   },
   "source": [
    "*  SVC và PassiveAggressiveClassifier vẫn cho kết quả khá tốt khi rất ít bỏ sát tin giả. <br>\n",
    "*  RandomForestClassifier và GradientBoostingClassifier cho kết quả kém hơn và bị ảnh hưởng nhiều với phương pháp giảm chiều."
   ]
  },
  {
   "cell_type": "markdown",
   "metadata": {
    "id": "ju5-h66Si_pc"
   },
   "source": [
    "## **F1-score**"
   ]
  },
  {
   "cell_type": "markdown",
   "metadata": {
    "id": "56j78qEukrp8"
   },
   "source": [
    "Trung hoà 2 tiêu chí trên của Recall và Precision"
   ]
  },
  {
   "cell_type": "code",
   "execution_count": 30,
   "metadata": {
    "colab": {
     "base_uri": "https://localhost:8080/",
     "height": 447
    },
    "id": "905nymlgomZr",
    "outputId": "8730f45a-3bc2-4733-df7e-f24b8283b9df"
   },
   "outputs": [
    {
     "data": {
      "image/png": "[encoded data removed]",
      "text/plain": [
       "<Figure size 1080x360 with 2 Axes>"
      ]
     },
     "metadata": {
      "needs_background": "light"
     },
     "output_type": "display_data"
    }
   ],
   "source": [
    "plt.subplots(figsize=(15, 5),)\n",
    "sns.heatmap(mxt_dict['f1'],xticklabels=model_lb, yticklabels=decomposor_lb, cmap=\"crest\", annot=True);"
   ]
  },
  {
   "cell_type": "markdown",
   "metadata": {
    "id": "jwdCR46KpcsB"
   },
   "source": [
    "*   Mô hình SVC cho kết quả tốt nhất<br>\n",
    "*   Tiếp theo là các mô hình PassiveAggressiveClassifier, LogisticRegression.<br>\n",
    "*   RandomForestClassifier và GradientBoostingClassifier bị ảnh hưởng nhiều với phương pháp giảm chiều<br>\n",
    "*   Multinomial Naive Bayes cho kết quả kém nhất."
   ]
  },
  {
   "cell_type": "markdown",
   "metadata": {
    "id": "cGLqM2CEUXM4"
   },
   "source": [
    "## **Confusion matrix**"
   ]
  },
  {
   "cell_type": "markdown",
   "metadata": {
    "id": "tPo-Z-2Zk1t2"
   },
   "source": [
    "Ma trận trực quan số lượng mẫu True/False Positive/Negative"
   ]
  },
  {
   "cell_type": "code",
   "execution_count": 31,
   "metadata": {
    "colab": {
     "base_uri": "https://localhost:8080/",
     "height": 463
    },
    "id": "ROYHL1jMbq6u",
    "outputId": "40b540b5-77e0-467d-9cee-2be238ee9247"
   },
   "outputs": [
    {
     "data": {
      "image/png": "[encoded data removed]",
      "text/plain": [
       "<Figure size 2160x720 with 34 Axes>"
      ]
     },
     "metadata": {
      "needs_background": "light"
     },
     "output_type": "display_data"
    }
   ],
   "source": [
    "_, axs = plt.subplots(3,6, figsize=(30,10))\n",
    "\n",
    "for decomposor_c in range(3):\n",
    "  for model_c in range(6):\n",
    "    cm = mxt_dict['cm'][decomposor_c][model_c]\n",
    "    if type(cm) != np.ndarray: continue \n",
    "    if decomposor_c == 0: \n",
    "      axs[decomposor_c,model_c].set_title(model_lb[model_c])\n",
    "    if model_c == 0: \n",
    "      axs[decomposor_c,model_c].set_title(decomposor_lb[decomposor_c])\n",
    "    axs[decomposor_c,model_c].set_xlabel('Predicted labels');\n",
    "    axs[decomposor_c,model_c].set_ylabel('True labels'); \n",
    "    axs[decomposor_c,model_c].xaxis.set_ticklabels(['Negative', 'Positive']); \n",
    "    axs[decomposor_c,model_c].yaxis.set_ticklabels(['Negative', 'Positive']);\n",
    "    f = sns.heatmap(cm, annot=True, ax = axs[decomposor_c,model_c])"
   ]
  }
 ],
 "metadata": {
  "colab": {
   "collapsed_sections": [
    "8ZPNS31ZGT2E",
    "qNk25Ax7wY6X"
   ],
   "name": "Do an 3.ipynb",
   "provenance": [],
   "toc_visible": true
  },
  "kernelspec": {
   "display_name": "Python 3 (ipykernel)",
   "language": "python",
   "name": "python3"
  },
  "language_info": {
   "codemirror_mode": {
    "name": "ipython",
    "version": 3
   },
   "file_extension": ".py",
   "mimetype": "text/x-python",
   "name": "python",
   "nbconvert_exporter": "python",
   "pygments_lexer": "ipython3",
   "version": "3.9.9"
  }
 },
 "nbformat": 4,
 "nbformat_minor": 1
}
